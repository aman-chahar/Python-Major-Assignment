{
 "cells": [
  {
   "cell_type": "markdown",
   "id": "0ca1e84e",
   "metadata": {},
   "source": [
    "1. Write a Python function that takes a list of temperatures in Fahrenheit\n",
    "as input and outputs a new list with the temperatures converted to Celsius?"
   ]
  },
  {
   "cell_type": "code",
   "execution_count": 8,
   "id": "35239a99",
   "metadata": {},
   "outputs": [
    {
     "name": "stdout",
     "output_type": "stream",
     "text": [
      "enter the tempratures in Fahrenheit: 88\n",
      "temperatures converted to Celsius - [31.11111111111111]\n"
     ]
    }
   ],
   "source": [
    "def cal(b):\n",
    "    lst=[]\n",
    "    for x in b:\n",
    "        c= (x-32)*5/9\n",
    "        lst+=[c]\n",
    "    return lst\n",
    "fhar_temp =input(\"enter the tempratures in Fahrenheit: \" )\n",
    "faren = []\n",
    "b = \"\"\n",
    "for a in fhar_temp:\n",
    "    if (a!=' '):\n",
    "        b+=a\n",
    "    else:\n",
    "        faren+=[float(b)]\n",
    "        b=\"\"\n",
    "faren+=[float(b)]\n",
    "converted_to_celcius = cal(faren)\n",
    "print(f\"temperatures converted to Celsius - {converted_to_celcius }\")\n"
   ]
  },
  {
   "cell_type": "markdown",
   "id": "7bcaa28e",
   "metadata": {},
   "source": [
    "Q2. Write a Python function that takes a list of book titles and their\n",
    "respective authors as input and outputs a new dictionary with the authors\n",
    "as keys and the book titles as values?"
   ]
  },
  {
   "cell_type": "code",
   "execution_count": 9,
   "id": "9b728810",
   "metadata": {},
   "outputs": [
    {
     "name": "stdout",
     "output_type": "stream",
     "text": [
      "{'book1': 'author1', 'book2': 'author2', 'book3': 'author3'}\n"
     ]
    }
   ],
   "source": [
    "def new_dct(a,b):\n",
    "    dt={}\n",
    "    for c in range(len(a)):\n",
    "        dt[a[c]]=b[c]\n",
    "    return dt\n",
    "lst1=[\"book1\",\"book2\",\"book3\"]\n",
    "lst2=[\"author1\",\"author2\",\"author3\"]\n",
    "dct= new_dct(lst1,lst2)\n",
    "print(dct)\n"
   ]
  },
  {
   "cell_type": "markdown",
   "id": "ade5cce0",
   "metadata": {},
   "source": [
    "Q3. Write a Python function that takes a list of grocery items and their\n",
    "respective prices as input and outputs the total cost of the grocery bill?"
   ]
  },
  {
   "cell_type": "code",
   "execution_count": 12,
   "id": "c63bb675",
   "metadata": {},
   "outputs": [
    {
     "name": "stdout",
     "output_type": "stream",
     "text": [
      "total price - 395\n"
     ]
    }
   ],
   "source": [
    "def price(a):\n",
    "    i=0\n",
    "    for c in a:\n",
    "        i=c+i\n",
    "    return i\n",
    "lst1=[\"apple\",\"mango\",\"banana\"]\n",
    "lst2=[180,100,115]\n",
    "total_price= price(lst2)\n",
    "print(f\"total price - {total_price}\")\n"
   ]
  },
  {
   "cell_type": "markdown",
   "id": "67e6ec23",
   "metadata": {},
   "source": [
    "Q4. Write a Python function that takes a list of movie titles and their\n",
    "respective ratings as input and outputs a new list with the movies sorted in\n",
    "descending order based on their ratings?"
   ]
  },
  {
   "cell_type": "code",
   "execution_count": 13,
   "id": "e90c469e",
   "metadata": {},
   "outputs": [
    {
     "name": "stdout",
     "output_type": "stream",
     "text": [
      "['movie1', 'movie3', 'movie2']\n"
     ]
    }
   ],
   "source": [
    "def sort(a,b):\n",
    "    dt={}\n",
    "    for i in range(len(a)):\n",
    "        dt[a[i]]=b[i]\n",
    "    moviesort = dict(sorted(dt.items(), key=lambda x:x[1], reverse=True))\n",
    "    lst=[]\n",
    "    for c in moviesort.keys():\n",
    "        lst.append(c)\n",
    "    return lst\n",
    "list1 = [\"movie1\", \"movie2\", \"movie3\"]\n",
    "list2 = [8.1, 6.0, 7.2]\n",
    "watchlist = sort(list1, list2)\n",
    "print(watchlist)\n"
   ]
  },
  {
   "cell_type": "markdown",
   "id": "b6d96118",
   "metadata": {},
   "source": [
    "Q5. Write a Python function that takes a list of student names and their\n",
    "respective grades as input and outputs a new dictionary with the student\n",
    "names as keys and their average grade as values?"
   ]
  },
  {
   "cell_type": "code",
   "execution_count": 14,
   "id": "1980c3f9",
   "metadata": {},
   "outputs": [
    {
     "name": "stdout",
     "output_type": "stream",
     "text": [
      "{'studen1': 8.05, 'student2': 6.5, 'student3': 9.1}\n"
     ]
    }
   ],
   "source": [
    "def avg(a,b,c):\n",
    "    dct={}\n",
    "    for i in range(len(a)):\n",
    "        dct[a[i]]= (b[i]+c[i])/2\n",
    "    return dct\n",
    "student = [\"studen1\", \"student2\", \"student3\"]\n",
    "maths = [8.1, 6.0, 7.2]\n",
    "english = [8, 7, 11]\n",
    "dict1 = avg(student, maths, english)\n",
    "print(dict1)"
   ]
  },
  {
   "cell_type": "markdown",
   "id": "d6e5c538",
   "metadata": {},
   "source": [
    "Q6. Inventory Management: Create a class called \"Inventory\" that has\n",
    "attributes such as item name, quantity, price, etc. You can then create\n",
    "objects of this class for each item in your inventory and use its methods to\n",
    "update the inventory as items are sold or restocked?"
   ]
  },
  {
   "cell_type": "code",
   "execution_count": 15,
   "id": "d4c3a0c1",
   "metadata": {},
   "outputs": [
    {
     "name": "stdout",
     "output_type": "stream",
     "text": [
      "pen\n",
      "26\n",
      "10\n",
      "pen\n",
      "24\n",
      "10\n",
      "pen\n",
      "29\n",
      "10\n"
     ]
    }
   ],
   "source": [
    "class Inventory:\n",
    "    def __init__ (self, name, quantity, price):\n",
    "        self.name = name\n",
    "        self.quantity = quantity\n",
    "        self.price = price\n",
    "    def itemsold (self, quantitysold):\n",
    "        self.quantity = self.quantity - quantitysold\n",
    "    def itemrestocked (self, quantityrestocked):\n",
    "        self.quantity = self.quantity + quantityrestocked\n",
    "    def status (self):\n",
    "        print(self.name)\n",
    "        print(self.quantity)\n",
    "        print(self.price)\n",
    "item1 = Inventory(\"pen\", 26, 10)\n",
    "item1.status()\n",
    "item1.itemsold(2)\n",
    "item1.status()\n",
    "item1.itemrestocked(5)\n",
    "item1.status()"
   ]
  },
  {
   "cell_type": "markdown",
   "id": "c248f49f",
   "metadata": {},
   "source": [
    "Q7. Employee Management: Create a class called \"Employee\" that has\n",
    "attributes such as name, age, salary, etc. You can then create objects of\n",
    "this class for each employee in your organization and use its methods to\n",
    "manage employee data, such as updating salaries or tracking employee\n",
    "attendance?"
   ]
  },
  {
   "cell_type": "code",
   "execution_count": 16,
   "id": "f0cff45c",
   "metadata": {},
   "outputs": [
    {
     "name": "stdout",
     "output_type": "stream",
     "text": [
      "rinki 27 65000 0\n",
      "rinki 27 66500 0\n",
      "rinki 27 66500 4\n"
     ]
    }
   ],
   "source": [
    "class Employee:\n",
    "    def __init__(self,name,age,salary,leaves=0):\n",
    "        self.name = name\n",
    "        self.age = age\n",
    "        self.salary = salary\n",
    "        self.leaves = leaves\n",
    "    def update_slr(self,salary):\n",
    "        self.salary = self.salary+salary\n",
    "    def update_leaves(self,leaves):\n",
    "        self.leaves = self.leaves+leaves\n",
    "    def status(self):\n",
    "        print(self.name,self.age,self.salary,self.leaves)\n",
    "emp = Employee(\"rinki\",27,65000)\n",
    "emp.status()\n",
    "emp.update_slr(1500)\n",
    "emp.status()\n",
    "emp.update_leaves(4)\n",
    "emp.status()"
   ]
  },
  {
   "cell_type": "markdown",
   "id": "9da5c64c",
   "metadata": {},
   "source": [
    "Q8. Banking: Create a class called \"Account\" that has attributes such as\n",
    "account number, balance, and interest rate. You can then create objects of this class for each customer's account and use its methods to handle\n",
    "transactions, such as deposits, withdrawals, and interest calculations?"
   ]
  },
  {
   "cell_type": "code",
   "execution_count": 17,
   "id": "f69e2925",
   "metadata": {},
   "outputs": [
    {
     "name": "stdout",
     "output_type": "stream",
     "text": [
      "25884543572490 70000 7\n",
      "25884543572490 90000 7\n",
      "25884543572490 83000 7\n",
      "1162000\n"
     ]
    }
   ],
   "source": [
    "class Account:\n",
    "    def __init__(self,account_no,balance,interest):\n",
    "        self.account_no = account_no\n",
    "        self.balance = balance\n",
    "        self.interest = interest\n",
    "    def deposit (self,credit):\n",
    "        self.balance = self.balance + credit\n",
    "    def withdrawal (self,debit):\n",
    "        self.balance = self.balance - debit\n",
    "    def interest_calculation (self,time):\n",
    "        print(self.balance*self.interest*time)\n",
    "    def status (self):\n",
    "        print(self.account_no,self.balance,self.interest)\n",
    "acc1= Account(25884543572490,70000,7)\n",
    "acc1.status()\n",
    "acc1.deposit(20000)\n",
    "acc1.status()\n",
    "acc1.withdrawal(7000)\n",
    "acc1.status()\n",
    "acc1.interest_calculation(2)\n"
   ]
  },
  {
   "cell_type": "markdown",
   "id": "a073ddf5",
   "metadata": {},
   "source": [
    "Q9. Medical Records Management: Create a class called \"Patient\" that has\n",
    "attributes such as name, age, medical history, etc. You can then create\n",
    "objects of this class for each patient and use its methods to manage patient\n",
    "data, such as scheduling appointments or updating medical records?"
   ]
  },
  {
   "cell_type": "code",
   "execution_count": 18,
   "id": "01dbf20a",
   "metadata": {},
   "outputs": [
    {
     "name": "stdout",
     "output_type": "stream",
     "text": [
      "rinki 27 fever no appointment\n",
      "rinki 27 fever 2 'o' clock\n",
      "rinki 27 fever vomit 2 'o' clock\n"
     ]
    }
   ],
   "source": [
    "class Patient:\n",
    "    def __init__(self,name,age,medical_history,appointments=\"no appointment\"):\n",
    "        self.name = name\n",
    "        self.age = age\n",
    "        self.medical_history = medical_history\n",
    "        self.appointments = appointments\n",
    "    def scheduling (self,time) :\n",
    "        self.appointments = time\n",
    "    def medical_records(self,medical_records):\n",
    "        self.medical_history = self.medical_history + medical_records\n",
    "    def status(self):\n",
    "        print(self.name,self.age,self.medical_history,self.appointments)\n",
    "patient_data = Patient(\"rinki\",27,\"fever\")\n",
    "patient_data.status()\n",
    "patient_data.scheduling(\"2 'o' clock\")\n",
    "patient_data.status()\n",
    "patient_data.medical_records(\" vomit\")\n",
    "patient_data.status()\n"
   ]
  },
  {
   "cell_type": "markdown",
   "id": "298aae6c",
   "metadata": {},
   "source": [
    "Q10. Online Ordering: Create a class called \"Order\" that has attributes\n",
    "such as customer name, order details, total amount, etc. You can then\n",
    "create objects of this class for each order placed on your online store and\n",
    "use its methods to process the order, such as calculating the total amount,\n",
    "generating a receipt, and updating inventory levels?"
   ]
  },
  {
   "cell_type": "code",
   "execution_count": 20,
   "id": "97a0f100",
   "metadata": {},
   "outputs": [
    {
     "name": "stdout",
     "output_type": "stream",
     "text": [
      "25\n",
      "maggie 20\n",
      "maggie masala 5\n",
      "25\n",
      "22 34\n"
     ]
    }
   ],
   "source": [
    "maggie = 24\n",
    "maggie_masala = 38\n",
    "class Order:\n",
    "    def __init__(self,name,order_details,quantity):\n",
    "        self.name = name\n",
    "        self.order_details = order_details\n",
    "        self.quantity = quantity\n",
    "    def total(self):\n",
    "        a=0\n",
    "        for i in self.order_details.values():\n",
    "            a= i+a\n",
    "        print(a)\n",
    "    def receipt(self):\n",
    "        for i,n in self.order_details.items():\n",
    "            print(i,n)\n",
    "        self.total()\n",
    "    def update (self):\n",
    "        global maggie\n",
    "        global maggie_masala\n",
    "        maggie = maggie - self.quantity[0]\n",
    "        maggie_masala = maggie_masala - self.quantity[1]\n",
    "        print(maggie,maggie_masala)\n",
    "o1 = Order(\"shubha\",{\"maggie\":20,\"maggie masala\":5},[2,4])\n",
    "o1.total()\n",
    "o1.receipt()\n",
    "o1.update()\n"
   ]
  },
  {
   "cell_type": "code",
   "execution_count": null,
   "id": "275a2512",
   "metadata": {},
   "outputs": [],
   "source": []
  }
 ],
 "metadata": {
  "kernelspec": {
   "display_name": "Python 3 (ipykernel)",
   "language": "python",
   "name": "python3"
  },
  "language_info": {
   "codemirror_mode": {
    "name": "ipython",
    "version": 3
   },
   "file_extension": ".py",
   "mimetype": "text/x-python",
   "name": "python",
   "nbconvert_exporter": "python",
   "pygments_lexer": "ipython3",
   "version": "3.9.13"
  }
 },
 "nbformat": 4,
 "nbformat_minor": 5
}
