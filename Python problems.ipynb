{
 "cells": [
  {
   "cell_type": "markdown",
   "id": "5942e5bc",
   "metadata": {},
   "source": [
    "# Python based Problems"
   ]
  },
  {
   "cell_type": "markdown",
   "id": "0ad48a27",
   "metadata": {},
   "source": [
    "1. Find the data type of these two declaration:\n",
    "1. x=5\n",
    "2. y=\"John\""
   ]
  },
  {
   "cell_type": "code",
   "execution_count": 1,
   "id": "21fc2421",
   "metadata": {},
   "outputs": [
    {
     "name": "stdout",
     "output_type": "stream",
     "text": [
      "<class 'int'>\n"
     ]
    }
   ],
   "source": [
    "x = 5\n",
    "print(type(x))"
   ]
  },
  {
   "cell_type": "code",
   "execution_count": 2,
   "id": "76e44659",
   "metadata": {},
   "outputs": [
    {
     "name": "stdout",
     "output_type": "stream",
     "text": [
      "<class 'str'>\n"
     ]
    }
   ],
   "source": [
    "y = \"John\"\n",
    "print(type(y))"
   ]
  },
  {
   "cell_type": "markdown",
   "id": "a465f098",
   "metadata": {},
   "source": [
    "2. Check whether the following syntax is valid or invalid for naming a variable.:\n",
    "Example : abc = 100 #valid syntax\n",
    "i. 3a=10\n",
    "ii. @abc=10\n",
    "iii. a100=100\n",
    "iv. _a984_=100\n",
    "v. a9967$=100\n",
    "vi. xyz-2=100"
   ]
  },
  {
   "cell_type": "code",
   "execution_count": 3,
   "id": "d06b45eb",
   "metadata": {},
   "outputs": [
    {
     "ename": "SyntaxError",
     "evalue": "invalid syntax (3061711608.py, line 1)",
     "output_type": "error",
     "traceback": [
      "\u001b[1;36m  File \u001b[1;32m\"C:\\Users\\amanc\\AppData\\Local\\Temp\\ipykernel_27452\\3061711608.py\"\u001b[1;36m, line \u001b[1;32m1\u001b[0m\n\u001b[1;33m    3a = 10 # syntax is invalid\u001b[0m\n\u001b[1;37m     ^\u001b[0m\n\u001b[1;31mSyntaxError\u001b[0m\u001b[1;31m:\u001b[0m invalid syntax\n"
     ]
    }
   ],
   "source": [
    "3a = 10 # syntax is invalid"
   ]
  },
  {
   "cell_type": "code",
   "execution_count": 4,
   "id": "c8916a02",
   "metadata": {},
   "outputs": [
    {
     "ename": "SyntaxError",
     "evalue": "invalid syntax (4060815783.py, line 1)",
     "output_type": "error",
     "traceback": [
      "\u001b[1;36m  File \u001b[1;32m\"C:\\Users\\amanc\\AppData\\Local\\Temp\\ipykernel_27452\\4060815783.py\"\u001b[1;36m, line \u001b[1;32m1\u001b[0m\n\u001b[1;33m    @abc = 10 # syntax is invalid\u001b[0m\n\u001b[1;37m         ^\u001b[0m\n\u001b[1;31mSyntaxError\u001b[0m\u001b[1;31m:\u001b[0m invalid syntax\n"
     ]
    }
   ],
   "source": [
    "@abc = 10 # syntax is invalid"
   ]
  },
  {
   "cell_type": "code",
   "execution_count": 5,
   "id": "85a26e3c",
   "metadata": {},
   "outputs": [
    {
     "name": "stdout",
     "output_type": "stream",
     "text": [
      " this is valid- 100\n"
     ]
    }
   ],
   "source": [
    "a100 = 100   # syntax is valid\n",
    "print(f\" this is valid- {a100}\")  "
   ]
  },
  {
   "cell_type": "code",
   "execution_count": 6,
   "id": "1df7916c",
   "metadata": {},
   "outputs": [
    {
     "name": "stdout",
     "output_type": "stream",
     "text": [
      " this is valid- 100\n"
     ]
    }
   ],
   "source": [
    "_a984_ = 100    # syntax is valid\n",
    "print(f\" this is valid- {_a984_}\")"
   ]
  },
  {
   "cell_type": "code",
   "execution_count": 7,
   "id": "09cafbd2",
   "metadata": {},
   "outputs": [
    {
     "ename": "SyntaxError",
     "evalue": "invalid syntax (3723330920.py, line 1)",
     "output_type": "error",
     "traceback": [
      "\u001b[1;36m  File \u001b[1;32m\"C:\\Users\\amanc\\AppData\\Local\\Temp\\ipykernel_27452\\3723330920.py\"\u001b[1;36m, line \u001b[1;32m1\u001b[0m\n\u001b[1;33m    a9967$ = 100   # syntax is invalid\u001b[0m\n\u001b[1;37m         ^\u001b[0m\n\u001b[1;31mSyntaxError\u001b[0m\u001b[1;31m:\u001b[0m invalid syntax\n"
     ]
    }
   ],
   "source": [
    "a9967$ = 100   # syntax is invalid"
   ]
  },
  {
   "cell_type": "code",
   "execution_count": 8,
   "id": "585d633f",
   "metadata": {},
   "outputs": [
    {
     "ename": "SyntaxError",
     "evalue": "cannot assign to operator (423570648.py, line 1)",
     "output_type": "error",
     "traceback": [
      "\u001b[1;36m  File \u001b[1;32m\"C:\\Users\\amanc\\AppData\\Local\\Temp\\ipykernel_27452\\423570648.py\"\u001b[1;36m, line \u001b[1;32m1\u001b[0m\n\u001b[1;33m    xyz-2 = 100  # syntax is invalid\u001b[0m\n\u001b[1;37m    ^\u001b[0m\n\u001b[1;31mSyntaxError\u001b[0m\u001b[1;31m:\u001b[0m cannot assign to operator\n"
     ]
    }
   ],
   "source": [
    "xyz-2 = 100  # syntax is invalid"
   ]
  },
  {
   "cell_type": "markdown",
   "id": "7286bcca",
   "metadata": {},
   "source": [
    "3. Check if element exists in list in Python:\n",
    "\n",
    "\n",
    "list = test_list = [1,6,3,5,3,4]\n",
    "1. Check if 3 exist or not.\n",
    "2. .Check if 9 exists or not."
   ]
  },
  {
   "cell_type": "code",
   "execution_count": 9,
   "id": "2460d7cc",
   "metadata": {},
   "outputs": [
    {
     "name": "stdout",
     "output_type": "stream",
     "text": [
      "exist\n"
     ]
    }
   ],
   "source": [
    "# python code to Check if element exists in list or not\n",
    "\n",
    "test_list = [1,6,3,5,3,4]\n",
    "\n",
    "#checking if element 3 is present\n",
    "# in the given list or not\n",
    "i=3\n",
    "# if element present then return\n",
    "# exist otherwise not exist\n",
    "if i in test_list:\n",
    "    print(\"exist\")\n",
    "else:\n",
    "    print(\"not exist\")\n",
    " "
   ]
  },
  {
   "cell_type": "code",
   "execution_count": 10,
   "id": "455666a2",
   "metadata": {},
   "outputs": [
    {
     "name": "stdout",
     "output_type": "stream",
     "text": [
      "not exist\n"
     ]
    }
   ],
   "source": [
    "# python code to Check if element exists in list or not\n",
    "\n",
    "test_list = [1,6,3,5,3,4]\n",
    "\n",
    "#checking if element 9 is present\n",
    "# in the given list or not\n",
    "i=9\n",
    "# if element present then return\n",
    "# exist otherwise not exist\n",
    "if i in test_list:\n",
    "    print(\"exist\")\n",
    "else:\n",
    "    print(\"not exist\")"
   ]
  },
  {
   "cell_type": "markdown",
   "id": "78215be0",
   "metadata": {},
   "source": [
    "4. Take the user input to print the current date."
   ]
  },
  {
   "cell_type": "code",
   "execution_count": 11,
   "id": "d7f32950",
   "metadata": {},
   "outputs": [],
   "source": [
    "# import date from datetime module\n",
    "from datetime import date"
   ]
  },
  {
   "cell_type": "code",
   "execution_count": 12,
   "id": "4205d052",
   "metadata": {},
   "outputs": [
    {
     "name": "stdout",
     "output_type": "stream",
     "text": [
      "Today date is: 2023-11-09\n"
     ]
    }
   ],
   "source": [
    "# return current date\n",
    "today = date.today()\n",
    "print(f\"Today date is: {today}\")"
   ]
  },
  {
   "cell_type": "markdown",
   "id": "c07252e1",
   "metadata": {},
   "source": [
    "5. what is the output of the following code: \n",
    "    \n",
    "    a. print9//2\n",
    "    b.print9%2"
   ]
  },
  {
   "cell_type": "code",
   "execution_count": 13,
   "id": "e63f9a58",
   "metadata": {},
   "outputs": [
    {
     "data": {
      "text/plain": [
       "4"
      ]
     },
     "execution_count": 13,
     "metadata": {},
     "output_type": "execute_result"
    }
   ],
   "source": [
    "9//2"
   ]
  },
  {
   "cell_type": "code",
   "execution_count": 14,
   "id": "67637614",
   "metadata": {},
   "outputs": [
    {
     "data": {
      "text/plain": [
       "1"
      ]
     },
     "execution_count": 14,
     "metadata": {},
     "output_type": "execute_result"
    }
   ],
   "source": [
    "9%2"
   ]
  },
  {
   "cell_type": "markdown",
   "id": "133d60a8",
   "metadata": {},
   "source": [
    "6. Print First 10 natural numbers using a while loop."
   ]
  },
  {
   "cell_type": "code",
   "execution_count": 15,
   "id": "dda04a0d",
   "metadata": {},
   "outputs": [
    {
     "name": "stdout",
     "output_type": "stream",
     "text": [
      "1\n",
      "2\n",
      "3\n",
      "4\n",
      "5\n",
      "6\n",
      "7\n",
      "8\n",
      "9\n",
      "10\n"
     ]
    }
   ],
   "source": [
    "#code to print first 10 natural numbers.\n",
    "i = 1\n",
    "while i<11:\n",
    "    print(i)\n",
    "    i=i+1"
   ]
  },
  {
   "cell_type": "markdown",
   "id": "eacf6484",
   "metadata": {},
   "source": [
    "7. Write a program to accept a number from a user and calculate the sum of all numbers from 1 to a given number. For example, if the user entered 10 the output should be 55 (1+2+3+4+5+6+7+8+9+10)"
   ]
  },
  {
   "cell_type": "code",
   "execution_count": 18,
   "id": "9ec9b3f9",
   "metadata": {},
   "outputs": [
    {
     "name": "stdout",
     "output_type": "stream",
     "text": [
      "Enter a number: 7\n",
      "The sum of all numbers from 1 to the given number is: 28 \n"
     ]
    }
   ],
   "source": [
    "# code to accept a number from a user and calculate the sum of all numbers\n",
    "num = int(input(\"Enter a number: \"))\n",
    "\n",
    "s = 0\n",
    "\n",
    "for i in range(num + 1):\n",
    "\n",
    "   s += i\n",
    "\n",
    "print(f\"The sum of all numbers from 1 to the given number is: {s} \")"
   ]
  },
  {
   "cell_type": "markdown",
   "id": "f31987fc",
   "metadata": {},
   "source": [
    "8. Write a Python program which iterates the integers from 1 to 50. For multiples of three print \"Fizz\" instead of the number and for the multiples of five print \"Buzz\". For numbers which are multiples of both three and five print \"FizzBuzz\". Example:fizzbuzz 1 2 fizz 4 buzz"
   ]
  },
  {
   "cell_type": "code",
   "execution_count": 17,
   "id": "274d21af",
   "metadata": {},
   "outputs": [
    {
     "name": "stdout",
     "output_type": "stream",
     "text": [
      "1\n",
      "2\n",
      "Fizz\n",
      "4\n",
      "Buzz\n",
      "Fizz\n",
      "7\n",
      "8\n",
      "Fizz\n",
      "Buzz\n",
      "11\n",
      "Fizz\n",
      "13\n",
      "14\n",
      "FizzBuzz\n",
      "16\n",
      "17\n",
      "Fizz\n",
      "19\n",
      "Buzz\n",
      "Fizz\n",
      "22\n",
      "23\n",
      "Fizz\n",
      "Buzz\n",
      "26\n",
      "Fizz\n",
      "28\n",
      "29\n",
      "FizzBuzz\n",
      "31\n",
      "32\n",
      "Fizz\n",
      "34\n",
      "Buzz\n",
      "Fizz\n",
      "37\n",
      "38\n",
      "Fizz\n",
      "Buzz\n",
      "41\n",
      "Fizz\n",
      "43\n",
      "44\n",
      "FizzBuzz\n",
      "46\n",
      "47\n",
      "Fizz\n",
      "49\n",
      "Buzz\n"
     ]
    }
   ],
   "source": [
    "# code which iterates the integers from 1 to 50\n",
    "for number in range(1, 51):\n",
    "    if number % 3 == 0 and number % 5 == 0:\n",
    "        print(\"FizzBuzz\")\n",
    "    elif number % 3 == 0:\n",
    "        print(\"Fizz\")\n",
    "    elif number % 5 == 0:\n",
    "        print(\"Buzz\")\n",
    "    else:\n",
    "        print(number)"
   ]
  },
  {
   "cell_type": "code",
   "execution_count": null,
   "id": "4ebbaeb3",
   "metadata": {},
   "outputs": [],
   "source": []
  },
  {
   "cell_type": "code",
   "execution_count": null,
   "id": "6dc39383",
   "metadata": {},
   "outputs": [],
   "source": []
  },
  {
   "cell_type": "code",
   "execution_count": null,
   "id": "b8b5561a",
   "metadata": {},
   "outputs": [],
   "source": []
  }
 ],
 "metadata": {
  "kernelspec": {
   "display_name": "Python 3 (ipykernel)",
   "language": "python",
   "name": "python3"
  },
  "language_info": {
   "codemirror_mode": {
    "name": "ipython",
    "version": 3
   },
   "file_extension": ".py",
   "mimetype": "text/x-python",
   "name": "python",
   "nbconvert_exporter": "python",
   "pygments_lexer": "ipython3",
   "version": "3.9.13"
  }
 },
 "nbformat": 4,
 "nbformat_minor": 5
}
