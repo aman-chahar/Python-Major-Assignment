{
 "cells": [
  {
   "cell_type": "markdown",
   "id": "1c485e67",
   "metadata": {},
   "source": [
    "Q1. Write a Python program that takes two lists as input and returns a new list\n",
    "containing the common elements between the two input lists?"
   ]
  },
  {
   "cell_type": "code",
   "execution_count": 20,
   "id": "516bbc18",
   "metadata": {},
   "outputs": [
    {
     "name": "stdout",
     "output_type": "stream",
     "text": [
      "Enter elements of the first list separated by spaces: 2 4 5 7 8\n",
      "Enter elements of the first list separated by spaces: 2 4 3 9 7\n",
      "list3 \n",
      "['2', '4', '7']\n"
     ]
    }
   ],
   "source": [
    "def common_list(a,b):\n",
    "    result = [i for i in a if i in b]\n",
    "    return result    \n",
    " #input list a and b\n",
    "a = input(\"Enter elements of the first list separated by spaces: \").split()\n",
    "b = input(\"Enter elements of the first list separated by spaces: \").split()\n",
    "print (\"list3 \")\n",
    "print (common_list(a,b))"
   ]
  },
  {
   "cell_type": "markdown",
   "id": "28366852",
   "metadata": {},
   "source": [
    "Q2. Write a Python program that takes two strings as input and returns 'yes' if the first string is a substring of the second string and 'no' otherwise using comparison\n",
    "operators?"
   ]
  },
  {
   "cell_type": "code",
   "execution_count": 8,
   "id": "429fef51",
   "metadata": {
    "scrolled": true
   },
   "outputs": [
    {
     "name": "stdout",
     "output_type": "stream",
     "text": [
      "Enter the first string: aman kumar\n",
      "Enter the second string: aman\n",
      "yes\n"
     ]
    }
   ],
   "source": [
    "# input string and substring\n",
    "string = input(\"Enter the first string: \") \n",
    "subtring = input(\"Enter the second string: \") \n",
    "  \n",
    "# splitting words in a given string\n",
    "s = string.split()\n",
    "  \n",
    "# checking condition\n",
    "if substring in s:\n",
    "    print(\"yes\")\n",
    "else:\n",
    "    print(\"no\")"
   ]
  },
  {
   "cell_type": "markdown",
   "id": "58373540",
   "metadata": {},
   "source": [
    "Q3. Write a Python program that takes two lists as input and returns a new list\n",
    "containing only the unique elements from both input lists using comparison\n",
    "operators?"
   ]
  },
  {
   "cell_type": "code",
   "execution_count": 13,
   "id": "3ab49440",
   "metadata": {},
   "outputs": [
    {
     "name": "stdout",
     "output_type": "stream",
     "text": [
      "Enter elements of the first list separated by spaces: 2 4 6 8 10\n",
      "Enter elements of the second list separated by spaces: 2 6 8 7 5 3\n",
      "Unique elements: [2, 4, 6, 8, 10, 7, 5, 3]\n"
     ]
    }
   ],
   "source": [
    "def find_unique_elements(list1, list2):\n",
    "    unique_elements = []\n",
    "    \n",
    "    for item in list1 + list2:\n",
    "        if item not in unique_elements:\n",
    "            unique_elements.append(item)\n",
    "    \n",
    "    return unique_elements\n",
    "\n",
    "input_list1 = input(\"Enter elements of the first list separated by spaces: \").split()\n",
    "input_list2 = input(\"Enter elements of the second list separated by spaces: \").split()\n",
    "\n",
    "list1 = [int(item) for item in input_list1]\n",
    "list2 = [int(item) for item in input_list2]\n",
    "\n",
    "unique_elements = find_unique_elements(list1, list2)\n",
    "\n",
    "print(\"Unique elements:\", unique_elements)\n"
   ]
  },
  {
   "cell_type": "markdown",
   "id": "01b38e63",
   "metadata": {},
   "source": [
    "Q4. Write a Python program that takes a list of strings as input and returns the\n",
    "longest string in the list using comparison operators?"
   ]
  },
  {
   "cell_type": "code",
   "execution_count": 21,
   "id": "428dcd2c",
   "metadata": {},
   "outputs": [
    {
     "name": "stdout",
     "output_type": "stream",
     "text": [
      "Enter strings separated by spaces: aman kumar chahar\n",
      "Longest string in the list: chahar\n"
     ]
    }
   ],
   "source": [
    "input_strings = input(\"Enter strings separated by spaces: \")\n",
    "string_list = input_strings.split()\n",
    "longest_string = \"\"\n",
    "for string in string_list:\n",
    "    if len(string) > len(longest_string):\n",
    "        longest_string = string\n",
    "print(\"Longest string in the list:\", longest_string)"
   ]
  },
  {
   "cell_type": "markdown",
   "id": "9e53073e",
   "metadata": {},
   "source": [
    "Q5. Write a Python program that takes a set of strings as input and returns a new set containing only the strings with length less than or equal to 5?"
   ]
  },
  {
   "cell_type": "code",
   "execution_count": 24,
   "id": "d3efb431",
   "metadata": {},
   "outputs": [
    {
     "name": "stdout",
     "output_type": "stream",
     "text": [
      "Enter strings separated by spaces: python language good\n",
      "Required_string : {'good'}\n"
     ]
    }
   ],
   "source": [
    "input_strings = input(\"Enter strings separated by spaces: \")\n",
    "string_list = input_strings.split()\n",
    "string_set = set(string_list)\n",
    "short_string_set = set()\n",
    "require_string = \"\"\n",
    "for string in string_list:\n",
    "    if len(string)<= 5:\n",
    "        short_string_set.add(string)\n",
    "        print (\"Required_string :\" , short_string_set)"
   ]
  },
  {
   "cell_type": "markdown",
   "id": "f256a30b",
   "metadata": {},
   "source": [
    "Q6. Write a Python program that takes a set of numbers as input and returns a\n",
    "new set containing only the odd numbers in the original set?"
   ]
  },
  {
   "cell_type": "code",
   "execution_count": 25,
   "id": "e0e34df1",
   "metadata": {},
   "outputs": [
    {
     "name": "stdout",
     "output_type": "stream",
     "text": [
      "Enter the count of numbers you wan to enter :  5\n",
      "Enter number 1 : 2\n",
      "Enter number 2 : 3\n",
      "Enter number 3 : 4\n",
      "Enter number 4 : 5\n",
      "Enter number 5 : 6\n",
      "New Set :  {3, 5}\n"
     ]
    }
   ],
   "source": [
    "num = int(input(\"Enter the count of numbers you wan to enter :  \"))\n",
    "numbers = set()\n",
    "new_set = set()\n",
    "for i in range (num):\n",
    "    number = int(input (f\"Enter number {i + 1} : \"))\n",
    "    numbers.add(number)\n",
    "for i in numbers:\n",
    "    if i % 2 !=0:\n",
    "        new_set.add(i)\n",
    "print (\"New Set : \", new_set)"
   ]
  },
  {
   "cell_type": "markdown",
   "id": "da2ecea7",
   "metadata": {},
   "source": [
    "Q7. Write a Python program that takes a dictionary as input and returns the key\n",
    "with the highest value?"
   ]
  },
  {
   "cell_type": "code",
   "execution_count": 43,
   "id": "b45759c4",
   "metadata": {},
   "outputs": [
    {
     "name": "stdout",
     "output_type": "stream",
     "text": [
      "Katie\n"
     ]
    }
   ],
   "source": [
    "weight = {\n",
    "    'Matt': 60,\n",
    "    'Katie': 99,\n",
    "    'Nik': 71,\n",
    "    'Jack': 83,\n",
    "    'Alison': 72,\n",
    "    'Kevin': 88\n",
    "}\n",
    "\n",
    "max_value = max(weight, key=weight.get)\n",
    "print(max_value)"
   ]
  },
  {
   "cell_type": "markdown",
   "id": "8ea44e91",
   "metadata": {},
   "source": [
    "Q8. Write a Python program that takes two sets as input and returns a new set\n",
    "containing the elements that are only in one of the input sets using comparison\n",
    "operators?"
   ]
  },
  {
   "cell_type": "code",
   "execution_count": 29,
   "id": "6ec3857b",
   "metadata": {},
   "outputs": [
    {
     "name": "stdout",
     "output_type": "stream",
     "text": [
      "Enter elements for the first set separated by spaces: 2 3 4 5 6 7\n",
      "Enter elements for the second set separated by spaces: 2 4 8 9\n",
      "Elements that are only in one of the sets: {'9', '3', '5', '6', '7', '8'}\n"
     ]
    }
   ],
   "source": [
    "input_set1 = input(\"Enter elements for the first set separated by spaces: \")\n",
    "set1 = set(input_set1.split())\n",
    "input_set2 = input(\"Enter elements for the second set separated by spaces: \")\n",
    "set2 = set(input_set2.split())\n",
    "unique_elements = set1.symmetric_difference(set2)\n",
    "print(\"Elements that are only in one of the sets:\", unique_elements)"
   ]
  },
  {
   "cell_type": "markdown",
   "id": "72d3af64",
   "metadata": {},
   "source": [
    "Q9. Write a Python program that takes a list of dictionaries as input and returns a\n",
    "new list containing only the dictionaries where the value of a specific key is equal\n",
    "to a certain value using comparison operators?"
   ]
  },
  {
   "cell_type": "code",
   "execution_count": 49,
   "id": "8950647f",
   "metadata": {},
   "outputs": [
    {
     "name": "stdout",
     "output_type": "stream",
     "text": [
      "Enter the number of dictionaries: 2\n",
      "Dictionary 1:\n",
      "Enter the number of key-value pairs: 2\n",
      "Enter key: 2\n",
      "Enter value: aman\n",
      "Enter key: 3\n",
      "Enter value: karan\n",
      "Dictionary 2:\n",
      "Enter the number of key-value pairs: 2\n",
      "Enter key: 4\n",
      "Enter value: nishu\n",
      "Enter key: 5\n",
      "Enter value: shikha\n",
      "Enter the key to filter by: 2\n",
      "Enter the value to filter for: aman\n",
      "Filtered dictionaries: [{'2': 'aman', '3': 'karan'}]\n"
     ]
    }
   ],
   "source": [
    "def filter_dicts_by_key_value(dicts_list, key, value):\n",
    "    filtered_dicts = []\n",
    "    \n",
    "    for dictionary in dicts_list:\n",
    "        if key in dictionary and dictionary[key] == value:\n",
    "            filtered_dicts.append(dictionary)\n",
    "    \n",
    "    return filtered_dicts\n",
    "\n",
    "num_dicts = int(input(\"Enter the number of dictionaries: \"))\n",
    "dicts_list = []\n",
    "\n",
    "for i in range(num_dicts):\n",
    "    print(f\"Dictionary {i+1}:\")\n",
    "    key_value_pairs = {}\n",
    "    num_pairs = int(input(\"Enter the number of key-value pairs: \"))\n",
    "    \n",
    "    for _ in range(num_pairs):\n",
    "        key = input(\"Enter key: \")\n",
    "        value = input(\"Enter value: \")\n",
    "        key_value_pairs[key] = value\n",
    "    \n",
    "    dicts_list.append(key_value_pairs)\n",
    "\n",
    "filter_key = input(\"Enter the key to filter by: \")\n",
    "filter_value = input(\"Enter the value to filter for: \")\n",
    "\n",
    "filtered_dicts = filter_dicts_by_key_value(dicts_list, filter_key, filter_value)\n",
    "\n",
    "print(\"Filtered dictionaries:\", filtered_dicts)\n"
   ]
  },
  {
   "cell_type": "markdown",
   "id": "f1923f3a",
   "metadata": {},
   "source": [
    "Q10. Write a Python program that takes a dictionary of strings as input and\n",
    "returns a new dictionary containing only the key-value pairs where the value is a\n",
    "string with length greater than 5?"
   ]
  },
  {
   "cell_type": "code",
   "execution_count": 50,
   "id": "d2ab2f79",
   "metadata": {},
   "outputs": [
    {
     "name": "stdout",
     "output_type": "stream",
     "text": [
      "Enter the number of dictionary entries: 2\n",
      "Enter key: 1\n",
      "Enter value: amaa\n",
      "Enter key: 2\n",
      "Enter value: baaa\n",
      "Filtered dictionary: {}\n"
     ]
    }
   ],
   "source": [
    "def filter_dict_by_value_length(input_dict):\n",
    "    filtered_dict = {}\n",
    "    \n",
    "    for key, value in input_dict.items():\n",
    "        if isinstance(value, str) and len(value) > 5:\n",
    "            filtered_dict[key] = value\n",
    "    \n",
    "    return filtered_dict\n",
    "\n",
    "num_entries = int(input(\"Enter the number of dictionary entries: \"))\n",
    "input_dict = {}\n",
    "\n",
    "for _ in range(num_entries):\n",
    "    key = input(\"Enter key: \")\n",
    "    value = input(\"Enter value: \")\n",
    "    input_dict[key] = value\n",
    "\n",
    "filtered_dict = filter_dict_by_value_length(input_dict)\n",
    "\n",
    "print(\"Filtered dictionary:\", filtered_dict)\n"
   ]
  },
  {
   "cell_type": "markdown",
   "id": "f0e0b58f",
   "metadata": {},
   "source": [
    "Q11. Write a Python program that takes an integer as input and outputs the sum\n",
    "of the first n natural numbers using a for loop?"
   ]
  },
  {
   "cell_type": "code",
   "execution_count": 31,
   "id": "e5f4d133",
   "metadata": {},
   "outputs": [
    {
     "name": "stdout",
     "output_type": "stream",
     "text": [
      "Enter the number : 10\n",
      "Sum of the first n natural numbers is: 55\n"
     ]
    }
   ],
   "source": [
    "n = int(input(\"Enter the number : \"))\n",
    "total_natural_no = 0\n",
    "for i in range(1, n + 1):\n",
    "    total_natural_no += i\n",
    "print (f\"Sum of the first n natural numbers is: {total_natural_no}\")"
   ]
  },
  {
   "cell_type": "markdown",
   "id": "b6c0f7db",
   "metadata": {},
   "source": [
    "Q12. Write a Python program that takes a list of integers as input and outputs the\n",
    "second smallest integer in the list using a for loop?"
   ]
  },
  {
   "cell_type": "code",
   "execution_count": 33,
   "id": "2e702540",
   "metadata": {},
   "outputs": [
    {
     "name": "stdout",
     "output_type": "stream",
     "text": [
      "Enter the number of Element :5\n",
      "Enter numbers  :34\n",
      "Enter numbers  :23\n",
      "Enter numbers  :22\n",
      "Enter numbers  :54\n",
      "Enter numbers  :76\n",
      "Print sorted list [22, 23, 34, 54, 76] \n",
      "print second highest list 23\n"
     ]
    }
   ],
   "source": [
    "new_list = []\n",
    "n = int(input(\"Enter the number of Element :\"))\n",
    "for i in range (1, n + 1):\n",
    "    list = int(input(f\"Enter numbers  :\"))\n",
    "    new_list.append(list)\n",
    "new_list.sort()\n",
    "print (f\"Print sorted list {new_list} \")\n",
    "print (f\"print second highest list {new_list[1]}\")"
   ]
  },
  {
   "cell_type": "markdown",
   "id": "acbceaf3",
   "metadata": {},
   "source": [
    "Q13. Write a Python program that takes a list of strings as input and outputs the\n",
    "string with the most vowels using a for loop?"
   ]
  },
  {
   "cell_type": "code",
   "execution_count": 35,
   "id": "b7df3005",
   "metadata": {},
   "outputs": [
    {
     "name": "stdout",
     "output_type": "stream",
     "text": [
      "Enter elements of the first list separated by spaces: aman kumar chahar python engineer\n",
      "The original list is : ['aman', 'kumar', 'chahar', 'python', 'engineer']\n",
      "Maximum vowels word : engineer\n"
     ]
    }
   ],
   "source": [
    "test_list = input(\"Enter elements of the first list separated by spaces: \").split()\n",
    "\n",
    "print(\"The original list is : \" + str(test_list))\n",
    " \n",
    "res = \"\"\n",
    "max_len = 0\n",
    " \n",
    "for ele in test_list:\n",
    "    vow_len = len([el for el in ele if el in ['a', 'e', 'o', 'u', 'i']])\n",
    "     \n",
    "    if vow_len > max_len:\n",
    "        max_len = vow_len\n",
    "        res = ele\n",
    "\n",
    "print(\"Maximum vowels word : \" + str(res))"
   ]
  },
  {
   "cell_type": "markdown",
   "id": "007ec4bc",
   "metadata": {},
   "source": [
    "Q14. Write a Python program that takes an integer as input and determines\n",
    "whether the number is an Armstrong number or not. An Armstrong number is a\n",
    "number that is equal to the sum of its own digits raised to the power of the\n",
    "number of digits. For example, 153 is an Armstrong number because 1^3 + 5^3 +\n",
    "3^3 = 153?"
   ]
  },
  {
   "cell_type": "code",
   "execution_count": 39,
   "id": "0e6d4463",
   "metadata": {},
   "outputs": [
    {
     "name": "stdout",
     "output_type": "stream",
     "text": [
      "Enter a number: 371\n",
      "371 is an Armstrong number.\n"
     ]
    }
   ],
   "source": [
    "def is_armstrong(number):\n",
    "    num_str = str(number)\n",
    "    num_digits = len(num_str)\n",
    "    total = sum(int(digit) ** num_digits for digit in num_str)\n",
    "    return total == number\n",
    "num = int(input(\"Enter a number: \"))\n",
    "if is_armstrong(num):\n",
    "    print(num, \"is an Armstrong number.\")\n",
    "else:\n",
    "    print(num, \"is not an Armstrong number.\")"
   ]
  },
  {
   "cell_type": "markdown",
   "id": "7f3ce2d5",
   "metadata": {},
   "source": [
    "Q15. Write a program to print first n prime numbers till a given limit by user. Ex -\n",
    "If the user has given the input as 50 so you need to show prime numbers till 50?"
   ]
  },
  {
   "cell_type": "code",
   "execution_count": 41,
   "id": "bf36e10d",
   "metadata": {},
   "outputs": [
    {
     "name": "stdout",
     "output_type": "stream",
     "text": [
      "Please, Enter the Upper Range Value: 15\n",
      "2\n",
      "3\n",
      "5\n",
      "7\n",
      "11\n",
      "13\n"
     ]
    }
   ],
   "source": [
    "upper_value = int(input (\"Please, Enter the Upper Range Value: \"))  \n",
    "for number in range (2, upper_value + 1):  \n",
    "    if number > 1:  \n",
    "        for i in range (2, number):  \n",
    "            if (number % i) == 0:  \n",
    "                break  \n",
    "        else:  \n",
    "            print (number) "
   ]
  },
  {
   "cell_type": "code",
   "execution_count": null,
   "id": "cb5f6ee3",
   "metadata": {},
   "outputs": [],
   "source": []
  }
 ],
 "metadata": {
  "kernelspec": {
   "display_name": "Python 3 (ipykernel)",
   "language": "python",
   "name": "python3"
  },
  "language_info": {
   "codemirror_mode": {
    "name": "ipython",
    "version": 3
   },
   "file_extension": ".py",
   "mimetype": "text/x-python",
   "name": "python",
   "nbconvert_exporter": "python",
   "pygments_lexer": "ipython3",
   "version": "3.9.13"
  }
 },
 "nbformat": 4,
 "nbformat_minor": 5
}
