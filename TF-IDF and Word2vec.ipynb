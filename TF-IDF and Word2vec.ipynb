{
 "cells": [
  {
   "cell_type": "code",
   "execution_count": 2,
   "id": "7e11d133",
   "metadata": {},
   "outputs": [],
   "source": [
    "from sklearn.feature_extraction.text import TfidfVectorizer"
   ]
  },
  {
   "cell_type": "code",
   "execution_count": 3,
   "id": "da7cf8f4",
   "metadata": {},
   "outputs": [],
   "source": [
    "data = [\"elon musk is the richest person\",\n",
    "       \"ambani is the richest person\",\n",
    "       \"china has the largest population\"]"
   ]
  },
  {
   "cell_type": "code",
   "execution_count": 4,
   "id": "24eadffe",
   "metadata": {},
   "outputs": [],
   "source": [
    "tfidf = TfidfVectorizer()"
   ]
  },
  {
   "cell_type": "code",
   "execution_count": 5,
   "id": "29424647",
   "metadata": {},
   "outputs": [],
   "source": [
    "tfidf_matrix = tfidf.fit_transform(data)"
   ]
  },
  {
   "cell_type": "code",
   "execution_count": 6,
   "id": "859ac50c",
   "metadata": {},
   "outputs": [
    {
     "data": {
      "text/plain": [
       "array(['ambani', 'china', 'elon', 'has', 'is', 'largest', 'musk',\n",
       "       'person', 'population', 'richest', 'the'], dtype=object)"
      ]
     },
     "execution_count": 6,
     "metadata": {},
     "output_type": "execute_result"
    }
   ],
   "source": [
    "tfidf.get_feature_names_out()"
   ]
  },
  {
   "cell_type": "code",
   "execution_count": 7,
   "id": "9a99d9cd",
   "metadata": {},
   "outputs": [],
   "source": [
    "tfidf_values = tfidf_matrix.toarray()"
   ]
  },
  {
   "cell_type": "code",
   "execution_count": 9,
   "id": "c6d67945",
   "metadata": {},
   "outputs": [
    {
     "data": {
      "text/plain": [
       "array([[0.        , 0.        , 0.49482971, 0.        , 0.37633075,\n",
       "        0.        , 0.49482971, 0.37633075, 0.        , 0.37633075,\n",
       "        0.2922544 ],\n",
       "       [0.56943086, 0.        , 0.        , 0.        , 0.43306685,\n",
       "        0.        , 0.        , 0.43306685, 0.        , 0.43306685,\n",
       "        0.33631504],\n",
       "       [0.        , 0.47952794, 0.        , 0.47952794, 0.        ,\n",
       "        0.47952794, 0.        , 0.        , 0.47952794, 0.        ,\n",
       "        0.28321692]])"
      ]
     },
     "execution_count": 9,
     "metadata": {},
     "output_type": "execute_result"
    }
   ],
   "source": [
    "tfidf_values"
   ]
  },
  {
   "cell_type": "code",
   "execution_count": 10,
   "id": "78706742",
   "metadata": {},
   "outputs": [],
   "source": [
    "import pandas as pd"
   ]
  },
  {
   "cell_type": "code",
   "execution_count": 12,
   "id": "dc1ee519",
   "metadata": {},
   "outputs": [],
   "source": [
    "data = pd.DataFrame(data= tfidf_values, columns = tfidf.get_feature_names_out())"
   ]
  },
  {
   "cell_type": "code",
   "execution_count": 13,
   "id": "62a314a7",
   "metadata": {},
   "outputs": [
    {
     "data": {
      "text/html": [
       "<div>\n",
       "<style scoped>\n",
       "    .dataframe tbody tr th:only-of-type {\n",
       "        vertical-align: middle;\n",
       "    }\n",
       "\n",
       "    .dataframe tbody tr th {\n",
       "        vertical-align: top;\n",
       "    }\n",
       "\n",
       "    .dataframe thead th {\n",
       "        text-align: right;\n",
       "    }\n",
       "</style>\n",
       "<table border=\"1\" class=\"dataframe\">\n",
       "  <thead>\n",
       "    <tr style=\"text-align: right;\">\n",
       "      <th></th>\n",
       "      <th>ambani</th>\n",
       "      <th>china</th>\n",
       "      <th>elon</th>\n",
       "      <th>has</th>\n",
       "      <th>is</th>\n",
       "      <th>largest</th>\n",
       "      <th>musk</th>\n",
       "      <th>person</th>\n",
       "      <th>population</th>\n",
       "      <th>richest</th>\n",
       "      <th>the</th>\n",
       "    </tr>\n",
       "  </thead>\n",
       "  <tbody>\n",
       "    <tr>\n",
       "      <th>0</th>\n",
       "      <td>0.000000</td>\n",
       "      <td>0.000000</td>\n",
       "      <td>0.49483</td>\n",
       "      <td>0.000000</td>\n",
       "      <td>0.376331</td>\n",
       "      <td>0.000000</td>\n",
       "      <td>0.49483</td>\n",
       "      <td>0.376331</td>\n",
       "      <td>0.000000</td>\n",
       "      <td>0.376331</td>\n",
       "      <td>0.292254</td>\n",
       "    </tr>\n",
       "    <tr>\n",
       "      <th>1</th>\n",
       "      <td>0.569431</td>\n",
       "      <td>0.000000</td>\n",
       "      <td>0.00000</td>\n",
       "      <td>0.000000</td>\n",
       "      <td>0.433067</td>\n",
       "      <td>0.000000</td>\n",
       "      <td>0.00000</td>\n",
       "      <td>0.433067</td>\n",
       "      <td>0.000000</td>\n",
       "      <td>0.433067</td>\n",
       "      <td>0.336315</td>\n",
       "    </tr>\n",
       "    <tr>\n",
       "      <th>2</th>\n",
       "      <td>0.000000</td>\n",
       "      <td>0.479528</td>\n",
       "      <td>0.00000</td>\n",
       "      <td>0.479528</td>\n",
       "      <td>0.000000</td>\n",
       "      <td>0.479528</td>\n",
       "      <td>0.00000</td>\n",
       "      <td>0.000000</td>\n",
       "      <td>0.479528</td>\n",
       "      <td>0.000000</td>\n",
       "      <td>0.283217</td>\n",
       "    </tr>\n",
       "  </tbody>\n",
       "</table>\n",
       "</div>"
      ],
      "text/plain": [
       "     ambani     china     elon       has        is   largest     musk  \\\n",
       "0  0.000000  0.000000  0.49483  0.000000  0.376331  0.000000  0.49483   \n",
       "1  0.569431  0.000000  0.00000  0.000000  0.433067  0.000000  0.00000   \n",
       "2  0.000000  0.479528  0.00000  0.479528  0.000000  0.479528  0.00000   \n",
       "\n",
       "     person  population   richest       the  \n",
       "0  0.376331    0.000000  0.376331  0.292254  \n",
       "1  0.433067    0.000000  0.433067  0.336315  \n",
       "2  0.000000    0.479528  0.000000  0.283217  "
      ]
     },
     "execution_count": 13,
     "metadata": {},
     "output_type": "execute_result"
    }
   ],
   "source": [
    "data"
   ]
  },
  {
   "cell_type": "markdown",
   "id": "e3b37305",
   "metadata": {},
   "source": [
    "#word2vec"
   ]
  },
  {
   "cell_type": "code",
   "execution_count": 14,
   "id": "9108ad78",
   "metadata": {},
   "outputs": [],
   "source": [
    "from gensim.models import Word2Vec"
   ]
  },
  {
   "cell_type": "code",
   "execution_count": 15,
   "id": "112efc9e",
   "metadata": {},
   "outputs": [],
   "source": [
    "data = [\"elon musk is the richest person\",\n",
    "       \"ambani is the richest person\",\n",
    "       \"china has the largest population\"]"
   ]
  },
  {
   "cell_type": "code",
   "execution_count": 16,
   "id": "07765df7",
   "metadata": {},
   "outputs": [],
   "source": [
    "tokens = [d.split() for d in data]"
   ]
  },
  {
   "cell_type": "code",
   "execution_count": 17,
   "id": "2205e640",
   "metadata": {},
   "outputs": [
    {
     "data": {
      "text/plain": [
       "[['elon', 'musk', 'is', 'the', 'richest', 'person'],\n",
       " ['ambani', 'is', 'the', 'richest', 'person'],\n",
       " ['china', 'has', 'the', 'largest', 'population']]"
      ]
     },
     "execution_count": 17,
     "metadata": {},
     "output_type": "execute_result"
    }
   ],
   "source": [
    "tokens"
   ]
  },
  {
   "cell_type": "code",
   "execution_count": 18,
   "id": "163345dc",
   "metadata": {},
   "outputs": [
    {
     "data": {
      "text/plain": [
       "str"
      ]
     },
     "execution_count": 18,
     "metadata": {},
     "output_type": "execute_result"
    }
   ],
   "source": [
    "type(tokens[0][0])"
   ]
  },
  {
   "cell_type": "code",
   "execution_count": 29,
   "id": "9e7daf38",
   "metadata": {},
   "outputs": [],
   "source": [
    "model = Word2Vec(tokens, vector_size = 100, min_count=1)"
   ]
  },
  {
   "cell_type": "code",
   "execution_count": 30,
   "id": "97fdc7fc",
   "metadata": {},
   "outputs": [
    {
     "data": {
      "text/plain": [
       "(14, 160)"
      ]
     },
     "execution_count": 30,
     "metadata": {},
     "output_type": "execute_result"
    }
   ],
   "source": [
    "model.train(tokens, total_examples = len(tokens), epochs = 10)"
   ]
  },
  {
   "cell_type": "code",
   "execution_count": 28,
   "id": "702075b7",
   "metadata": {},
   "outputs": [
    {
     "data": {
      "text/plain": [
       "[['elon', 'musk', 'is', 'the', 'richest', 'person'],\n",
       " ['ambani', 'is', 'the', 'richest', 'person'],\n",
       " ['china', 'has', 'the', 'largest', 'population']]"
      ]
     },
     "execution_count": 28,
     "metadata": {},
     "output_type": "execute_result"
    }
   ],
   "source": [
    "tokens"
   ]
  },
  {
   "cell_type": "code",
   "execution_count": 26,
   "id": "b45d59b0",
   "metadata": {},
   "outputs": [
    {
     "data": {
      "text/plain": [
       "array([-0.00515505, -0.006669  , -0.00777624,  0.00831166, -0.00198263,\n",
       "       -0.00685485, -0.00415383,  0.00514389, -0.00287004, -0.00375035,\n",
       "        0.00162164, -0.00277639, -0.00158366,  0.00107473, -0.00297799,\n",
       "        0.00851947,  0.00391213, -0.00995846,  0.00625885, -0.00675577,\n",
       "        0.00076931,  0.00440476, -0.00510298, -0.00211179,  0.0080951 ,\n",
       "       -0.00424323, -0.00763659,  0.0092585 , -0.00215625, -0.00471867,\n",
       "        0.0085707 ,  0.00428395,  0.00432452,  0.00928414, -0.00845413,\n",
       "        0.00525541,  0.00203854,  0.00418781,  0.0016969 ,  0.004464  ,\n",
       "        0.00448745,  0.00610421, -0.00320173, -0.00457573, -0.00042544,\n",
       "        0.00253389, -0.00326426,  0.00605692,  0.00415469,  0.00776468,\n",
       "        0.00256847,  0.00811609, -0.00138706,  0.00807726,  0.00371588,\n",
       "       -0.00804708, -0.00393461, -0.00247198,  0.00489266, -0.000872  ,\n",
       "       -0.00283008,  0.00783329,  0.00932319, -0.00161398, -0.00515943,\n",
       "       -0.00470066, -0.00484723, -0.00960219,  0.0013714 , -0.00422575,\n",
       "        0.00252713,  0.00561492, -0.00406551, -0.00959664,  0.00154656,\n",
       "       -0.00670023,  0.00249652, -0.00378081,  0.00707847,  0.00063989,\n",
       "        0.00356074, -0.00273967, -0.00171201,  0.00765333,  0.00140786,\n",
       "       -0.00585115, -0.00783382,  0.00123319,  0.00645551,  0.00555626,\n",
       "       -0.00897728,  0.00859211,  0.00404624,  0.00747022,  0.00974645,\n",
       "       -0.00728949, -0.00903973,  0.00583529,  0.00939185,  0.00350662],\n",
       "      dtype=float32)"
      ]
     },
     "execution_count": 26,
     "metadata": {},
     "output_type": "execute_result"
    }
   ],
   "source": [
    "model.wv[\"musk\"]"
   ]
  },
  {
   "cell_type": "code",
   "execution_count": null,
   "id": "b8ca1a25",
   "metadata": {},
   "outputs": [],
   "source": []
  }
 ],
 "metadata": {
  "kernelspec": {
   "display_name": "Python 3 (ipykernel)",
   "language": "python",
   "name": "python3"
  },
  "language_info": {
   "codemirror_mode": {
    "name": "ipython",
    "version": 3
   },
   "file_extension": ".py",
   "mimetype": "text/x-python",
   "name": "python",
   "nbconvert_exporter": "python",
   "pygments_lexer": "ipython3",
   "version": "3.9.13"
  }
 },
 "nbformat": 4,
 "nbformat_minor": 5
}
