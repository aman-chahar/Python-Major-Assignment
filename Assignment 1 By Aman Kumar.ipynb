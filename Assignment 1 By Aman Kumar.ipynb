{
 "cells": [
  {
   "cell_type": "markdown",
   "id": "2ff39cd8",
   "metadata": {},
   "source": [
    "1. Write a Python program that asks the user to enter their name and prints a greeting that says \"Hello, [name]!\"?"
   ]
  },
  {
   "cell_type": "code",
   "execution_count": 2,
   "id": "92c140cf",
   "metadata": {},
   "outputs": [
    {
     "name": "stdout",
     "output_type": "stream",
     "text": [
      "What is your name ? Aman Kumar\n",
      "Hello, Aman Kumar!\n"
     ]
    }
   ],
   "source": [
    "name = input(\"What is your name ? \")\n",
    "print(f\"Hello, {name}!\")"
   ]
  },
  {
   "cell_type": "markdown",
   "id": "34bb805c",
   "metadata": {},
   "source": [
    "2. Write a Python program that asks the user to enter their age and prints a message that says \"You are [age] years old\"?"
   ]
  },
  {
   "cell_type": "code",
   "execution_count": 4,
   "id": "154c6838",
   "metadata": {},
   "outputs": [
    {
     "name": "stdout",
     "output_type": "stream",
     "text": [
      "What is your Age ? 27\n",
      "You are 27 years old\n"
     ]
    }
   ],
   "source": [
    "age = int( input(\"What is your Age ? \") )\n",
    "print(f\"You are {age} years old\")"
   ]
  },
  {
   "cell_type": "markdown",
   "id": "b8c0b882",
   "metadata": {},
   "source": [
    "3. Write a Python program that asks the user to enter two numbers, calculates their sum, and prints the result?"
   ]
  },
  {
   "cell_type": "code",
   "execution_count": 5,
   "id": "8e8ef32d",
   "metadata": {},
   "outputs": [
    {
     "name": "stdout",
     "output_type": "stream",
     "text": [
      "Enter first number34\n",
      "Enter second number56\n",
      "Sum of two given number is:  90 \n"
     ]
    }
   ],
   "source": [
    "num1 = int (input(\"Enter first number\") )\n",
    "num2 = int (input(\"Enter second number\") )\n",
    "\n",
    "sum = num1 + num2 #Calculating their sum\n",
    "\n",
    "print(f\"Sum of two given number is:  {sum} \")"
   ]
  },
  {
   "cell_type": "markdown",
   "id": "01b82610",
   "metadata": {},
   "source": [
    "4. Write a Python program that asks the user to enter a sentence and prints the sentence with every word capitalized?"
   ]
  },
  {
   "cell_type": "code",
   "execution_count": 7,
   "id": "ec5e99b7",
   "metadata": {},
   "outputs": [
    {
     "name": "stdout",
     "output_type": "stream",
     "text": [
      "Write a line about InsideAIML !I am gaining new technical skills with InsideAIML\n",
      "After using capitalize- I am gaining new technical skills with insideaiml\n",
      "After using title- I Am Gaining New Technical Skills With Insideaiml\n",
      "After Convertimg to upper case- I AM GAINING NEW TECHNICAL SKILLS WITH INSIDEAIML\n"
     ]
    }
   ],
   "source": [
    "var = input(\"Write a line about InsideAIML !\")\n",
    "\n",
    "var = var.capitalize() #This will capitalize only first letter of first word\n",
    "print(f\"After using capitalize- {var}\")\n",
    "\n",
    "var = var.title() #This will capitalize only first letter of each word\n",
    "print(f\"After using title- {var}\")\n",
    "\n",
    "var = var.upper() #This will capitalize all letter of each word\n",
    "print(f\"After Convertimg to upper case- {var}\")"
   ]
  },
  {
   "cell_type": "markdown",
   "id": "c25bde26",
   "metadata": {},
   "source": [
    "5. Write a Python program that asks the user to enter a string and checks whether the string is a palindrome or not ?"
   ]
  },
  {
   "cell_type": "code",
   "execution_count": 23,
   "id": "3912bed8",
   "metadata": {},
   "outputs": [
    {
     "name": "stdout",
     "output_type": "stream",
     "text": [
      "Enter your string: malyalam\n",
      "malyalam is not a Palindrome.\n"
     ]
    }
   ],
   "source": [
    "string = input(\"Enter your string: \")\n",
    "rev = \"\"\n",
    "for i in string:\n",
    "    rev = i + rev\n",
    "    \n",
    "if (string == rev):\n",
    "    print(f\"Yes {string} is Palindrome.\")\n",
    "else:\n",
    "    print(f\"{string} is not a Palindrome.\")"
   ]
  },
  {
   "cell_type": "markdown",
   "id": "554f86f8",
   "metadata": {},
   "source": [
    "6. Write a Python program that asks the user to enter a temperature in Celsius and converts it to Fahrenheit?"
   ]
  },
  {
   "cell_type": "code",
   "execution_count": 18,
   "id": "89984edf",
   "metadata": {},
   "outputs": [
    {
     "name": "stdout",
     "output_type": "stream",
     "text": [
      "Input the temperature in Celsius 21\n",
      "Temperature in Fahrenheit is: 69\n"
     ]
    }
   ],
   "source": [
    "c = int (input (\"Input the temperature in Celsius \"))\n",
    "\n",
    "f = int(((9 * c)/ 5 + 32)) #converting C to F in integer form.\n",
    "\n",
    "print(f\"Temperature in Fahrenheit is: {f}\")"
   ]
  },
  {
   "cell_type": "code",
   "execution_count": null,
   "id": "11e78495",
   "metadata": {},
   "outputs": [],
   "source": []
  },
  {
   "cell_type": "code",
   "execution_count": null,
   "id": "baa007ec",
   "metadata": {},
   "outputs": [],
   "source": []
  }
 ],
 "metadata": {
  "kernelspec": {
   "display_name": "Python 3 (ipykernel)",
   "language": "python",
   "name": "python3"
  },
  "language_info": {
   "codemirror_mode": {
    "name": "ipython",
    "version": 3
   },
   "file_extension": ".py",
   "mimetype": "text/x-python",
   "name": "python",
   "nbconvert_exporter": "python",
   "pygments_lexer": "ipython3",
   "version": "3.9.13"
  }
 },
 "nbformat": 4,
 "nbformat_minor": 5
}
