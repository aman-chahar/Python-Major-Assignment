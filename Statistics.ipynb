{
 "cells": [
  {
   "cell_type": "markdown",
   "metadata": {},
   "source": [
    "## Statistics "
   ]
  },
  {
   "cell_type": "markdown",
   "metadata": {},
   "source": [
    "**1. According to a study, the daily average time spent by a user on a social media website is 50 minutes. To test the claim of this study, Ramesh, a researcher, takes a sample of 25 website users and finds out that the mean time spent by the sample users is 60 minutes and the sample standard deviation is 30 minutes. Based on this information, the null and the alternative hypotheses will be:**<br>\n",
    "**Ho = The average time spent by the users is 50 minutes**<br>\n",
    "**H1 = The average time spent by the users is not 50 minutes**<br>\n",
    "**Use a 5% significance level to test this hypothesis.**<br>"
   ]
  },
  {
   "cell_type": "markdown",
   "metadata": {},
   "source": [
    "**ANS:** The average time spent by the user is 50 minutes"
   ]
  },
  {
   "cell_type": "code",
   "execution_count": 3,
   "metadata": {},
   "outputs": [
    {
     "name": "stdout",
     "output_type": "stream",
     "text": [
      "The average time spent by the user is 50 minutes\n"
     ]
    }
   ],
   "source": [
    "import math\n",
    "import scipy.stats as stats\n",
    "\n",
    "n= 25\n",
    "mu = 50\n",
    "x_bar = 60\n",
    "s = 30\n",
    "alpha = 0.05\n",
    "\n",
    "# Calculate the T-Statistics\n",
    "t = (x_bar - mu)\n",
    "k = (s / math.sqrt(n))\n",
    "z = t/k\n",
    "\n",
    "# Find the critical T-Value\n",
    "df = n - 1\n",
    "t_crit = abs(stats.t.ppf(alpha/2,df))\n",
    "\n",
    "# Check if the calculated t-Value is outside the critical region\n",
    "if abs(z) > t_crit:\n",
    "    print(\"The average time spent by the users is not 50 minutes\")\n",
    "else:\n",
    "    print(\"The average time spent by the user is 50 minutes\")"
   ]
  },
  {
   "cell_type": "markdown",
   "metadata": {},
   "source": [
    "**2. Height of 7 students (in cm) is given below. What is the median? 168 170 169 160 162 164 162.**<br>\n",
    "\n",
    "**ANS:** The median of 7 students(in cm) is: 164"
   ]
  },
  {
   "cell_type": "code",
   "execution_count": 4,
   "metadata": {},
   "outputs": [
    {
     "name": "stdout",
     "output_type": "stream",
     "text": [
      "The median of 7 students(in cm) is: 164\n"
     ]
    }
   ],
   "source": [
    "import statistics\n",
    "\n",
    "x = [168, 170, 169, 160, 162, 164, 162]\n",
    "\n",
    "median =  statistics.median(x)\n",
    "\n",
    "print('The median of 7 students(in cm) is:',median)\n"
   ]
  },
  {
   "cell_type": "markdown",
   "metadata": {},
   "source": [
    "**3. Below are the observations of the marks of a student. Find the value of mode.**\n",
    "**84 85 89 92 93 89 87 89 92** <br>\n",
    "\n",
    "**ANS:**<br> The mode of the observation is: 89"
   ]
  },
  {
   "cell_type": "code",
   "execution_count": 5,
   "metadata": {},
   "outputs": [
    {
     "name": "stdout",
     "output_type": "stream",
     "text": [
      "The Mode of the observations is: 89\n"
     ]
    }
   ],
   "source": [
    "y = [84,85,89,92,93,89,87,89,92]\n",
    "\n",
    "mode  = statistics.mode(y)\n",
    "\n",
    "print('The Mode of the observations is:', mode)"
   ]
  },
  {
   "cell_type": "markdown",
   "metadata": {},
   "source": [
    "**4. From the table given below, what is the mean of marks obtained by 20students?**<br>\n",
    "| Marks Xi | No. of students fi |\n",
    "| -------- | ------------------ |\n",
    "|   3      |          1         |\n",
    "|   4      |          2         |\n",
    "|   5      |          2         |\n",
    "|   6      |          4         |\n",
    "|   7      |          5         |\n",
    "|   8      |          3         |\n",
    "|   9      |          2         |\n",
    "|   10     |          1         |\n",
    "|  Total   |          20        |"
   ]
  },
  {
   "cell_type": "code",
   "execution_count": 6,
   "metadata": {},
   "outputs": [
    {
     "name": "stdout",
     "output_type": "stream",
     "text": [
      "[3, 8, 10, 24, 35, 24, 18, 10]\n"
     ]
    }
   ],
   "source": [
    "xi = [3,4,5,6,7,8,9,10]\n",
    "fi = [1,2,2,4,5,3,2,1]\n",
    "xifi = list(map(lambda x, y : x*y, xi , fi))\n",
    "print(xifi)"
   ]
  },
  {
   "cell_type": "code",
   "execution_count": 7,
   "metadata": {},
   "outputs": [
    {
     "name": "stdout",
     "output_type": "stream",
     "text": [
      "132\n",
      "6.6\n"
     ]
    }
   ],
   "source": [
    "mean = sum(xifi)/20\n",
    "print(sum(xifi))\n",
    "print(mean)"
   ]
  },
  {
   "cell_type": "markdown",
   "metadata": {},
   "source": [
    "**ANS:** The mean of marks obtained 20 students is : 6.6"
   ]
  },
  {
   "cell_type": "markdown",
   "metadata": {},
   "source": [
    "**5. For a certain type of computer, the length of time between charges of the battery is normally distributed with a mean of 50 hours and a standard deviation of 15 hours. John owns one of these computers and wants to know the probability that the length of time will be between 50 and 70 hours.** <br>"
   ]
  },
  {
   "cell_type": "markdown",
   "metadata": {},
   "source": [
    "**ANS:**<br>"
   ]
  },
  {
   "cell_type": "markdown",
   "metadata": {},
   "source": [
    "**6. Find the range of the following.**<br>\n",
    "**g = [10, 23, 12, 21, 14, 17, 16, 11, 15, 19]**"
   ]
  },
  {
   "cell_type": "code",
   "execution_count": 8,
   "metadata": {},
   "outputs": [
    {
     "name": "stdout",
     "output_type": "stream",
     "text": [
      "Range is: 13\n"
     ]
    }
   ],
   "source": [
    "g = [10, 23, 12, 21, 14, 17, 16, 11, 15, 19]\n",
    "\n",
    "Range = max(g)- min(g)\n",
    "\n",
    "print('Range is:', Range)"
   ]
  },
  {
   "cell_type": "markdown",
   "metadata": {},
   "source": [
    "**ANS:** Range is: 13"
   ]
  },
  {
   "cell_type": "markdown",
   "metadata": {},
   "source": [
    "**7. It is estimated that 50% of emails are spam emails. Some software has been applied to filter these spam emails before they reach your inbox. A certain brand of software claims that it can detect 99% of spam emails, and the probability for a false positive (a non-spam email detected as spam) is 5%. Now if an email is detected as spam, then what is the probability that it is in fact a non-spam email?**<br>\n"
   ]
  },
  {
   "cell_type": "markdown",
   "metadata": {},
   "source": [
    "**ANS:** <br>\n",
    "\n",
    "Let's first define the events: <br>\n",
    "\n",
    "S: the event that an email is spam<br>\n",
    "-S : the event that email is not an spam<br>\n",
    "F: the event that an email is detected as spam<br>\n",
    "-F: the event that an email is not detected as spam<br>\n",
    "\n",
    "We want to find the probability of F given that the email is not actually spam, which can be written as P(-S | F). We can use Bayes' theorem to solve for this:<br>\n",
    "\n",
    "P(-S | F) = P(F | -S) * P(-S) / P(F)<br>\n",
    "\n",
    "We can find each of these probabilities from the given information:<br>\n",
    "\n",
    "P(F | -S) = probability of a false positive = 0.05<br>\n",
    "\n",
    "P(S) = probability of an email is spam = 0.5<br>\n",
    "\n",
    "P(-S) = probability of an email not being spam = 1 - P(S) = 0.5<br>\n",
    "\n",
    "P(F) = probability of an email being detected as spam = P(F | S)* P(S) + P(F | -S) * P(-S)<br>\n",
    "\n",
    "= 0.99 * 0.5 + 0.05 * 0.5<br>\n",
    "\n",
    "= 0.52<br>\n",
    "\n",
    "Putting these values into Bayes' theorem, as decribe above we get:<br>\n",
    "\n",
    "P(-S | F) = P(F | -S) * P(-S) / P(F)<br>\n",
    "\n",
    "P(-S | F) = 0.05 * 0.5 / 0.52<br>\n",
    "\n",
    "= 0.0481 (rounded to four decimal places)<br>\n",
    "\n",
    "**Therefore, the probability that an email detected as spam is actually not spam is approximately 0.0481 or 4.81%.<br>**"
   ]
  },
  {
   "cell_type": "markdown",
   "metadata": {},
   "source": [
    "**8. Given the following distribution of returns, determine the lower quartile: <br> {10 25 12 21 19 17 16 11 15 19}**"
   ]
  },
  {
   "cell_type": "markdown",
   "metadata": {},
   "source": [
    "**ANS:**<br>\n",
    "\n",
    "data = {10 25 12 21 19 17 16 11 15 19} <br>\n",
    "\n",
    "1. Sort the data in ascending order:<br>\n",
    "{10, 11, 12, 15, 16, 17, 19, 19, 21, 25}<br>\n",
    "\n",
    "2. Calculate the position of the lower quartile using the formula:<br>\n",
    "Position of lower quartile = (n + 1) / 4\n",
    "where n is the number of data points. In this case, n = 10, so:<br>\n",
    "\n",
    "Position of lower quartile = (10 + 1) / 4 = 2.75\n",
    "\n",
    "3. Since this position is not an integer, we need to interpolate between the second and third values.<br>\n",
    "\n",
    "The second value is 11 and the third value is 12. To interpolate, we can take the weighted average of these two values:<br>\n",
    "\n",
    "Weighted average = (1 - 0.75) * 11 + 0.75 * 12 = 11.75<br>\n",
    "\n",
    "**Therefore, the lower quartile of the data set is approximately 11.75.**<br>"
   ]
  },
  {
   "cell_type": "markdown",
   "metadata": {},
   "source": [
    "**9. For a Binomial distribution, the number of trials(n) is 25, and the probability of success is 0.3. What’s the variability of the distribution?**<br>\n",
    "\n",
    "**ANS:**<br>"
   ]
  },
  {
   "cell_type": "markdown",
   "metadata": {},
   "source": [
    "The measure for variability is Variance.<br>\n",
    "The variance of the binomial distribution is Var(X) = n*p*q;<br>\n",
    "\n",
    "where p is the probability of success and q is the probability of failure is given as 1-p<br>\n",
    "So, as per question; n=20, p=0.7 q = 1-0.7 = 0.3. <br>\n",
    "\n",
    "**Variance will be 20 * 0.3 * 0.7= 4.2**"
   ]
  },
  {
   "cell_type": "code",
   "execution_count": 9,
   "metadata": {},
   "outputs": [
    {
     "name": "stdout",
     "output_type": "stream",
     "text": [
      "4.2\n"
     ]
    }
   ],
   "source": [
    "Variance = 20*0.3*0.7\n",
    "print(round(Variance, 2))"
   ]
  },
  {
   "cell_type": "markdown",
   "metadata": {},
   "source": [
    "**10. Download the *Cell Phone Survey Dataset* and perform the below mentioned operations on the dataset:-<br>**"
   ]
  },
  {
   "cell_type": "code",
   "execution_count": 10,
   "metadata": {},
   "outputs": [],
   "source": [
    "import numpy as np\n",
    "#np is alias for numpy\n",
    "\n",
    "import pandas as pd\n",
    "# pd is alias as pandas\n",
    "\n",
    "import scipy.stats as scstat\n",
    "# sc is alias as sc\n",
    "\n",
    "import statistics as stat\n",
    "# stat is alias as statistics"
   ]
  },
  {
   "cell_type": "code",
   "execution_count": 11,
   "metadata": {},
   "outputs": [
    {
     "data": {
      "text/plain": [
       "(52, 7)"
      ]
     },
     "execution_count": 11,
     "metadata": {},
     "output_type": "execute_result"
    }
   ],
   "source": [
    "df = pd.read_csv('Cell Phone Survey.csv')\n",
    "df.shape"
   ]
  },
  {
   "cell_type": "code",
   "execution_count": 12,
   "metadata": {},
   "outputs": [
    {
     "data": {
      "text/html": [
       "<div>\n",
       "<style scoped>\n",
       "    .dataframe tbody tr th:only-of-type {\n",
       "        vertical-align: middle;\n",
       "    }\n",
       "\n",
       "    .dataframe tbody tr th {\n",
       "        vertical-align: top;\n",
       "    }\n",
       "\n",
       "    .dataframe thead th {\n",
       "        text-align: right;\n",
       "    }\n",
       "</style>\n",
       "<table border=\"1\" class=\"dataframe\">\n",
       "  <thead>\n",
       "    <tr style=\"text-align: right;\">\n",
       "      <th></th>\n",
       "      <th>Gender</th>\n",
       "      <th>Carrier</th>\n",
       "      <th>Type</th>\n",
       "      <th>Usage</th>\n",
       "      <th>Signal strength</th>\n",
       "      <th>Value for the Dollar</th>\n",
       "      <th>Customer Service</th>\n",
       "    </tr>\n",
       "  </thead>\n",
       "  <tbody>\n",
       "    <tr>\n",
       "      <th>0</th>\n",
       "      <td>M</td>\n",
       "      <td>AT&amp;T</td>\n",
       "      <td>Smart</td>\n",
       "      <td>High</td>\n",
       "      <td>5</td>\n",
       "      <td>4</td>\n",
       "      <td>4</td>\n",
       "    </tr>\n",
       "    <tr>\n",
       "      <th>1</th>\n",
       "      <td>M</td>\n",
       "      <td>AT&amp;T</td>\n",
       "      <td>Smart</td>\n",
       "      <td>High</td>\n",
       "      <td>5</td>\n",
       "      <td>4</td>\n",
       "      <td>2</td>\n",
       "    </tr>\n",
       "    <tr>\n",
       "      <th>2</th>\n",
       "      <td>M</td>\n",
       "      <td>AT&amp;T</td>\n",
       "      <td>Smart</td>\n",
       "      <td>Average</td>\n",
       "      <td>4</td>\n",
       "      <td>4</td>\n",
       "      <td>4</td>\n",
       "    </tr>\n",
       "    <tr>\n",
       "      <th>3</th>\n",
       "      <td>M</td>\n",
       "      <td>AT&amp;T</td>\n",
       "      <td>Smart</td>\n",
       "      <td>Very high</td>\n",
       "      <td>2</td>\n",
       "      <td>3</td>\n",
       "      <td>3</td>\n",
       "    </tr>\n",
       "    <tr>\n",
       "      <th>4</th>\n",
       "      <td>M</td>\n",
       "      <td>AT&amp;T</td>\n",
       "      <td>Smart</td>\n",
       "      <td>Very high</td>\n",
       "      <td>5</td>\n",
       "      <td>5</td>\n",
       "      <td>2</td>\n",
       "    </tr>\n",
       "  </tbody>\n",
       "</table>\n",
       "</div>"
      ],
      "text/plain": [
       "  Gender Carrier   Type      Usage  Signal strength  Value for the Dollar  \\\n",
       "0      M    AT&T  Smart       High                5                     4   \n",
       "1      M    AT&T  Smart       High                5                     4   \n",
       "2      M    AT&T  Smart    Average                4                     4   \n",
       "3      M    AT&T  Smart  Very high                2                     3   \n",
       "4      M    AT&T  Smart  Very high                5                     5   \n",
       "\n",
       "   Customer Service  \n",
       "0                 4  \n",
       "1                 2  \n",
       "2                 4  \n",
       "3                 3  \n",
       "4                 2  "
      ]
     },
     "execution_count": 12,
     "metadata": {},
     "output_type": "execute_result"
    }
   ],
   "source": [
    "df.head()"
   ]
  },
  {
   "cell_type": "code",
   "execution_count": 13,
   "metadata": {},
   "outputs": [
    {
     "data": {
      "text/html": [
       "<div>\n",
       "<style scoped>\n",
       "    .dataframe tbody tr th:only-of-type {\n",
       "        vertical-align: middle;\n",
       "    }\n",
       "\n",
       "    .dataframe tbody tr th {\n",
       "        vertical-align: top;\n",
       "    }\n",
       "\n",
       "    .dataframe thead th {\n",
       "        text-align: right;\n",
       "    }\n",
       "</style>\n",
       "<table border=\"1\" class=\"dataframe\">\n",
       "  <thead>\n",
       "    <tr style=\"text-align: right;\">\n",
       "      <th></th>\n",
       "      <th>Gender</th>\n",
       "      <th>Carrier</th>\n",
       "      <th>Type</th>\n",
       "      <th>Usage</th>\n",
       "      <th>Signal strength</th>\n",
       "      <th>Value for the Dollar</th>\n",
       "      <th>Customer Service</th>\n",
       "    </tr>\n",
       "  </thead>\n",
       "  <tbody>\n",
       "    <tr>\n",
       "      <th>47</th>\n",
       "      <td>F</td>\n",
       "      <td>Other</td>\n",
       "      <td>Basic</td>\n",
       "      <td>Average</td>\n",
       "      <td>2</td>\n",
       "      <td>3</td>\n",
       "      <td>3</td>\n",
       "    </tr>\n",
       "    <tr>\n",
       "      <th>48</th>\n",
       "      <td>F</td>\n",
       "      <td>T-mobile</td>\n",
       "      <td>Basic</td>\n",
       "      <td>Low</td>\n",
       "      <td>3</td>\n",
       "      <td>4</td>\n",
       "      <td>4</td>\n",
       "    </tr>\n",
       "    <tr>\n",
       "      <th>49</th>\n",
       "      <td>M</td>\n",
       "      <td>T-mobile</td>\n",
       "      <td>Basic</td>\n",
       "      <td>Average</td>\n",
       "      <td>3</td>\n",
       "      <td>4</td>\n",
       "      <td>3</td>\n",
       "    </tr>\n",
       "    <tr>\n",
       "      <th>50</th>\n",
       "      <td>M</td>\n",
       "      <td>Verizon</td>\n",
       "      <td>Basic</td>\n",
       "      <td>Low</td>\n",
       "      <td>3</td>\n",
       "      <td>3</td>\n",
       "      <td>4</td>\n",
       "    </tr>\n",
       "    <tr>\n",
       "      <th>51</th>\n",
       "      <td>M</td>\n",
       "      <td>Verizon</td>\n",
       "      <td>Basic</td>\n",
       "      <td>Average</td>\n",
       "      <td>4</td>\n",
       "      <td>2</td>\n",
       "      <td>4</td>\n",
       "    </tr>\n",
       "  </tbody>\n",
       "</table>\n",
       "</div>"
      ],
      "text/plain": [
       "   Gender   Carrier   Type    Usage  Signal strength  Value for the Dollar  \\\n",
       "47      F     Other  Basic  Average                2                     3   \n",
       "48      F  T-mobile  Basic      Low                3                     4   \n",
       "49      M  T-mobile  Basic  Average                3                     4   \n",
       "50      M   Verizon  Basic      Low                3                     3   \n",
       "51      M   Verizon  Basic  Average                4                     2   \n",
       "\n",
       "    Customer Service  \n",
       "47                 3  \n",
       "48                 4  \n",
       "49                 3  \n",
       "50                 4  \n",
       "51                 4  "
      ]
     },
     "execution_count": 13,
     "metadata": {},
     "output_type": "execute_result"
    }
   ],
   "source": [
    "df.tail()"
   ]
  },
  {
   "cell_type": "code",
   "execution_count": 14,
   "metadata": {},
   "outputs": [
    {
     "data": {
      "text/html": [
       "<div>\n",
       "<style scoped>\n",
       "    .dataframe tbody tr th:only-of-type {\n",
       "        vertical-align: middle;\n",
       "    }\n",
       "\n",
       "    .dataframe tbody tr th {\n",
       "        vertical-align: top;\n",
       "    }\n",
       "\n",
       "    .dataframe thead th {\n",
       "        text-align: right;\n",
       "    }\n",
       "</style>\n",
       "<table border=\"1\" class=\"dataframe\">\n",
       "  <thead>\n",
       "    <tr style=\"text-align: right;\">\n",
       "      <th></th>\n",
       "      <th>Signal strength</th>\n",
       "      <th>Value for the Dollar</th>\n",
       "      <th>Customer Service</th>\n",
       "    </tr>\n",
       "  </thead>\n",
       "  <tbody>\n",
       "    <tr>\n",
       "      <th>count</th>\n",
       "      <td>52.000000</td>\n",
       "      <td>52.000000</td>\n",
       "      <td>52.000000</td>\n",
       "    </tr>\n",
       "    <tr>\n",
       "      <th>mean</th>\n",
       "      <td>3.307692</td>\n",
       "      <td>3.423077</td>\n",
       "      <td>3.230769</td>\n",
       "    </tr>\n",
       "    <tr>\n",
       "      <th>std</th>\n",
       "      <td>1.000754</td>\n",
       "      <td>0.956836</td>\n",
       "      <td>0.962338</td>\n",
       "    </tr>\n",
       "    <tr>\n",
       "      <th>min</th>\n",
       "      <td>1.000000</td>\n",
       "      <td>1.000000</td>\n",
       "      <td>1.000000</td>\n",
       "    </tr>\n",
       "    <tr>\n",
       "      <th>25%</th>\n",
       "      <td>3.000000</td>\n",
       "      <td>3.000000</td>\n",
       "      <td>3.000000</td>\n",
       "    </tr>\n",
       "    <tr>\n",
       "      <th>50%</th>\n",
       "      <td>3.000000</td>\n",
       "      <td>3.000000</td>\n",
       "      <td>3.000000</td>\n",
       "    </tr>\n",
       "    <tr>\n",
       "      <th>75%</th>\n",
       "      <td>4.000000</td>\n",
       "      <td>4.000000</td>\n",
       "      <td>4.000000</td>\n",
       "    </tr>\n",
       "    <tr>\n",
       "      <th>max</th>\n",
       "      <td>5.000000</td>\n",
       "      <td>5.000000</td>\n",
       "      <td>5.000000</td>\n",
       "    </tr>\n",
       "  </tbody>\n",
       "</table>\n",
       "</div>"
      ],
      "text/plain": [
       "       Signal strength  Value for the Dollar  Customer Service\n",
       "count        52.000000             52.000000         52.000000\n",
       "mean          3.307692              3.423077          3.230769\n",
       "std           1.000754              0.956836          0.962338\n",
       "min           1.000000              1.000000          1.000000\n",
       "25%           3.000000              3.000000          3.000000\n",
       "50%           3.000000              3.000000          3.000000\n",
       "75%           4.000000              4.000000          4.000000\n",
       "max           5.000000              5.000000          5.000000"
      ]
     },
     "execution_count": 14,
     "metadata": {},
     "output_type": "execute_result"
    }
   ],
   "source": [
    "df.describe()"
   ]
  },
  {
   "cell_type": "code",
   "execution_count": 15,
   "metadata": {},
   "outputs": [
    {
     "name": "stdout",
     "output_type": "stream",
     "text": [
      "<class 'pandas.core.frame.DataFrame'>\n",
      "RangeIndex: 52 entries, 0 to 51\n",
      "Data columns (total 7 columns):\n",
      " #   Column                Non-Null Count  Dtype \n",
      "---  ------                --------------  ----- \n",
      " 0   Gender                52 non-null     object\n",
      " 1   Carrier               52 non-null     object\n",
      " 2   Type                  52 non-null     object\n",
      " 3   Usage                 52 non-null     object\n",
      " 4   Signal strength       52 non-null     int64 \n",
      " 5   Value for the Dollar  52 non-null     int64 \n",
      " 6   Customer Service      52 non-null     int64 \n",
      "dtypes: int64(3), object(4)\n",
      "memory usage: 3.0+ KB\n"
     ]
    }
   ],
   "source": [
    "df.info()"
   ]
  },
  {
   "cell_type": "code",
   "execution_count": 16,
   "metadata": {},
   "outputs": [
    {
     "data": {
      "text/plain": [
       "Gender                  52\n",
       "Carrier                 52\n",
       "Type                    52\n",
       "Usage                   52\n",
       "Signal strength         52\n",
       "Value for the Dollar    52\n",
       "Customer Service        52\n",
       "dtype: int64"
      ]
     },
     "execution_count": 16,
     "metadata": {},
     "output_type": "execute_result"
    }
   ],
   "source": [
    "df.count()"
   ]
  },
  {
   "cell_type": "markdown",
   "metadata": {},
   "source": [
    "**● Checking datatypes of each column in the dataset.**"
   ]
  },
  {
   "cell_type": "code",
   "execution_count": 17,
   "metadata": {},
   "outputs": [
    {
     "data": {
      "text/plain": [
       "Gender                  object\n",
       "Carrier                 object\n",
       "Type                    object\n",
       "Usage                   object\n",
       "Signal strength          int64\n",
       "Value for the Dollar     int64\n",
       "Customer Service         int64\n",
       "dtype: object"
      ]
     },
     "execution_count": 17,
     "metadata": {},
     "output_type": "execute_result"
    }
   ],
   "source": [
    "df.dtypes"
   ]
  },
  {
   "cell_type": "markdown",
   "metadata": {},
   "source": [
    "**● Find Mean of Signal strength column using Pandas and Statistics library.**"
   ]
  },
  {
   "cell_type": "code",
   "execution_count": 18,
   "metadata": {},
   "outputs": [
    {
     "name": "stdout",
     "output_type": "stream",
     "text": [
      "Mean of signal strength using pandas: 3.3076923076923075\n",
      "Mean of signal strength using statistics: 3.3076923076923075\n"
     ]
    }
   ],
   "source": [
    "#Mean of signal strength using Pandas library\n",
    "mean_sig_strnth_pan = df['Signal strength'].mean()\n",
    "print('Mean of signal strength using pandas:',mean_sig_strnth_pan)\n",
    "\n",
    "#Mean of signal strength using Statistics library\n",
    "mean_sig_strnth_stat = stat.mean(df['Signal strength'])\n",
    "print('Mean of signal strength using statistics:',mean_sig_strnth_stat)\n"
   ]
  },
  {
   "cell_type": "markdown",
   "metadata": {},
   "source": [
    "**● Find the Median of Customer Service column using Pandas and Statistics library.**"
   ]
  },
  {
   "cell_type": "code",
   "execution_count": 19,
   "metadata": {},
   "outputs": [
    {
     "name": "stdout",
     "output_type": "stream",
     "text": [
      "Median of customer service using pandas: 3.0\n",
      "Median of customer service using statistics: 3.0\n"
     ]
    }
   ],
   "source": [
    "#Median of signal strength using Pandas library\n",
    "med_cus_ser_pan = df['Customer Service'].median()\n",
    "print('Median of customer service using pandas:',med_cus_ser_pan)\n",
    "\n",
    "#Median of signal strength using Statistics library\n",
    "med_cus_ser_stat = stat.median(df['Customer Service'])\n",
    "print('Median of customer service using statistics:',med_cus_ser_stat)\n"
   ]
  },
  {
   "cell_type": "markdown",
   "metadata": {},
   "source": [
    "**● Find Mode of Signal strength column using Pandas and Statistics library.**"
   ]
  },
  {
   "cell_type": "code",
   "execution_count": 20,
   "metadata": {},
   "outputs": [
    {
     "name": "stdout",
     "output_type": "stream",
     "text": [
      "Mode of signal strength using pandas: 0    3\n",
      "Name: Signal strength, dtype: int64\n",
      "Mode of signal strength using statistics: 3\n"
     ]
    }
   ],
   "source": [
    "#Mode of signal strength using Pandas library\n",
    "mo_sig_strnth_pan = df['Signal strength'].mode()\n",
    "print('Mode of signal strength using pandas:',mo_sig_strnth_pan)\n",
    "\n",
    "#Mode of signal strength using Statistics library\n",
    "mo_sig_strnth_stat = stat.mode(df['Signal strength'])\n",
    "print('Mode of signal strength using statistics:',mo_sig_strnth_stat)\n"
   ]
  },
  {
   "cell_type": "markdown",
   "metadata": {},
   "source": [
    "**● Find Standard deviation of Customer Service column using Pandas and Statistics library.**"
   ]
  },
  {
   "cell_type": "code",
   "execution_count": 21,
   "metadata": {},
   "outputs": [
    {
     "name": "stdout",
     "output_type": "stream",
     "text": [
      "Standard Deviation of customer service using pandas: 0.9623375261979594\n",
      "Standard deviation of customer service using statistics: 0.9623375261979595\n"
     ]
    }
   ],
   "source": [
    "#Standard deviation of signal strength using Pandas library\n",
    "std_cus_ser_pan = df['Customer Service'].std()\n",
    "print('Standard Deviation of customer service using pandas:',std_cus_ser_pan)\n",
    "\n",
    "#Standard Deviation of signal strength using Statistics library\n",
    "std_cus_ser_stat = stat.stdev(df['Customer Service'])\n",
    "print('Standard deviation of customer service using statistics:',std_cus_ser_stat)\n"
   ]
  },
  {
   "cell_type": "markdown",
   "metadata": {},
   "source": [
    "**● Find Variance of Customer Service column using Pandas and Statistics library.**"
   ]
  },
  {
   "cell_type": "code",
   "execution_count": 22,
   "metadata": {},
   "outputs": [
    {
     "name": "stdout",
     "output_type": "stream",
     "text": [
      "Variance of customer service using pandas: 0.9260935143288083\n",
      "Variance of customer service using statistics: 0.9260935143288084\n"
     ]
    }
   ],
   "source": [
    "#Variance of signal strength using Pandas library\n",
    "var_sig_strnth_pan = df['Customer Service'].var()\n",
    "print('Variance of customer service using pandas:',var_sig_strnth_pan)\n",
    "\n",
    "#Variance of signal strength using Statistics library\n",
    "var_sig_strnth_stat = stat.variance(df['Customer Service'])\n",
    "print('Variance of customer service using statistics:',var_sig_strnth_stat)\n"
   ]
  },
  {
   "cell_type": "markdown",
   "metadata": {},
   "source": [
    "**● Calculate Percentiles of Value for the Dollar column using Numpy.**"
   ]
  },
  {
   "cell_type": "code",
   "execution_count": 23,
   "metadata": {},
   "outputs": [
    {
     "name": "stdout",
     "output_type": "stream",
     "text": [
      "25th percentile: 3.0\n",
      "50th percentile: 3.0\n",
      "75th percentile: 4.0\n"
     ]
    }
   ],
   "source": [
    "#Calculate percentiles of value for the dollar Numpy library\n",
    "\n",
    "df_dollar = df['Value for the Dollar']\n",
    "\n",
    "#25% percentile\n",
    "df_25 = np.percentile(df_dollar, 25)\n",
    "print('25th percentile:', df_25)\n",
    "\n",
    "#50% percentile\n",
    "df_50 = np.percentile(df_dollar, 50)\n",
    "print('50th percentile:', df_50)\n",
    "\n",
    "#75% percentile\n",
    "df_75 = np.percentile(df_dollar, 75)\n",
    "print('75th percentile:', df_75)"
   ]
  },
  {
   "cell_type": "markdown",
   "metadata": {},
   "source": [
    "**● Calculate Range of Value for the Dollar column using Pandas.**"
   ]
  },
  {
   "cell_type": "code",
   "execution_count": 24,
   "metadata": {},
   "outputs": [
    {
     "name": "stdout",
     "output_type": "stream",
     "text": [
      "Range of Value for the dollar column is: 4\n"
     ]
    }
   ],
   "source": [
    "df_range = df_dollar.max()-df_dollar.min()\n",
    "print('Range of Value for the dollar column is:', df_range)"
   ]
  },
  {
   "cell_type": "markdown",
   "metadata": {},
   "source": [
    "**● Calculate IQR of Value for the Dollar column using Pandas.**"
   ]
  },
  {
   "cell_type": "code",
   "execution_count": 25,
   "metadata": {},
   "outputs": [
    {
     "name": "stdout",
     "output_type": "stream",
     "text": [
      "IOR of value for the dollar column is: 1.0\n",
      "25th Quantile: 3.0\n",
      "75th Quantile: 4.0\n",
      "IOR of value for the dollar column is: 1.0\n"
     ]
    }
   ],
   "source": [
    "df_iqr = df_75 -df_25\n",
    "print('IOR of value for the dollar column is:', df_iqr)\n",
    "\n",
    "#25% percentile\n",
    "df_25thqr = np.quantile(df_dollar, 0.25)\n",
    "print('25th Quantile:', df_25thqr)\n",
    "\n",
    "#75% percentile\n",
    "df_75thqr = np.quantile(df_dollar, 0.75)\n",
    "print('75th Quantile:', df_75thqr)\n",
    "\n",
    "df_iqr1 = df_75thqr -df_25thqr\n",
    "print('IOR of value for the dollar column is:', df_iqr1)"
   ]
  },
  {
   "cell_type": "markdown",
   "metadata": {},
   "source": [
    "**● Hypothesis Testing - Using the data in the Cell Phone Survey dataset, apply ANOVA to determine if the mean response for Value for dollar is the same for different types of cell phones.**"
   ]
  },
  {
   "cell_type": "markdown",
   "metadata": {},
   "source": [
    "**setting null hypothesis**<br>\n",
    "\n",
    "- (Null hypothesis) H0 => mean response for Value for the Dollar are same for different types of cell phone.<br>\n",
    "- (Alternate hyhothesis) H1 => mean response for Value for the Dollar are not same for different types of cell phone.<br>"
   ]
  },
  {
   "cell_type": "code",
   "execution_count": 26,
   "metadata": {},
   "outputs": [
    {
     "data": {
      "text/plain": [
       "Smart     21\n",
       "Camera    19\n",
       "Basic     12\n",
       "Name: Type, dtype: int64"
      ]
     },
     "execution_count": 26,
     "metadata": {},
     "output_type": "execute_result"
    }
   ],
   "source": [
    "df['Type'].value_counts()"
   ]
  }
 ],
 "metadata": {
  "kernelspec": {
   "display_name": "Python 3 (ipykernel)",
   "language": "python",
   "name": "python3"
  },
  "language_info": {
   "codemirror_mode": {
    "name": "ipython",
    "version": 3
   },
   "file_extension": ".py",
   "mimetype": "text/x-python",
   "name": "python",
   "nbconvert_exporter": "python",
   "pygments_lexer": "ipython3",
   "version": "3.9.13"
  }
 },
 "nbformat": 4,
 "nbformat_minor": 2
}
