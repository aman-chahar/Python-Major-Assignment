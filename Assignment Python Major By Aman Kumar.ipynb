{
 "cells": [
  {
   "cell_type": "markdown",
   "id": "668e6471",
   "metadata": {},
   "source": [
    "# Assignment Python [Major]"
   ]
  },
  {
   "cell_type": "markdown",
   "id": "0d98fef1",
   "metadata": {},
   "source": [
    "1. Find the data type of these two declaration:\n",
    "\n",
    "x=5\n",
    "\n",
    "y=\"John\""
   ]
  },
  {
   "cell_type": "code",
   "execution_count": 22,
   "id": "ca16779c",
   "metadata": {},
   "outputs": [
    {
     "name": "stdout",
     "output_type": "stream",
     "text": [
      "<class 'int'>\n",
      "<class 'str'>\n"
     ]
    }
   ],
   "source": [
    "x = 5\n",
    "y = \"John\"\n",
    "print(type(x))\n",
    "print(type(y))"
   ]
  },
  {
   "cell_type": "markdown",
   "id": "081919ce",
   "metadata": {},
   "source": [
    "2. Check whether the following syntax is valid or invalid for naming a variable. :Example: abc=100 # valid syntax \n",
    "\n",
    "i. 3a=10\n",
    "ii. @abc=10\n",
    "iii. a100=100\n",
    "iv. _a984_=100\n",
    "v. a9967$=100\n",
    "vi. xyz-2=100"
   ]
  },
  {
   "cell_type": "code",
   "execution_count": 23,
   "id": "b41ce60c",
   "metadata": {},
   "outputs": [
    {
     "ename": "SyntaxError",
     "evalue": "invalid syntax (1906230296.py, line 1)",
     "output_type": "error",
     "traceback": [
      "\u001b[1;36m  File \u001b[1;32m\"C:\\Users\\amanc\\AppData\\Local\\Temp\\ipykernel_17464\\1906230296.py\"\u001b[1;36m, line \u001b[1;32m1\u001b[0m\n\u001b[1;33m    3a=10 #invalid\u001b[0m\n\u001b[1;37m     ^\u001b[0m\n\u001b[1;31mSyntaxError\u001b[0m\u001b[1;31m:\u001b[0m invalid syntax\n"
     ]
    }
   ],
   "source": [
    "3a=10 #invalid\n",
    "print(3a)"
   ]
  },
  {
   "cell_type": "code",
   "execution_count": 24,
   "id": "b9419724",
   "metadata": {
    "scrolled": true
   },
   "outputs": [
    {
     "ename": "SyntaxError",
     "evalue": "invalid syntax (1439600110.py, line 1)",
     "output_type": "error",
     "traceback": [
      "\u001b[1;36m  File \u001b[1;32m\"C:\\Users\\amanc\\AppData\\Local\\Temp\\ipykernel_17464\\1439600110.py\"\u001b[1;36m, line \u001b[1;32m1\u001b[0m\n\u001b[1;33m    @abc=10  #invalid\u001b[0m\n\u001b[1;37m        ^\u001b[0m\n\u001b[1;31mSyntaxError\u001b[0m\u001b[1;31m:\u001b[0m invalid syntax\n"
     ]
    }
   ],
   "source": [
    "@abc=10  #invalid\n",
    "print(@abc)"
   ]
  },
  {
   "cell_type": "code",
   "execution_count": 25,
   "id": "3f85a22a",
   "metadata": {},
   "outputs": [
    {
     "name": "stdout",
     "output_type": "stream",
     "text": [
      "100\n"
     ]
    }
   ],
   "source": [
    "a100=100  #valid\n",
    "print(a100)"
   ]
  },
  {
   "cell_type": "code",
   "execution_count": 26,
   "id": "5dcda45c",
   "metadata": {},
   "outputs": [
    {
     "name": "stdout",
     "output_type": "stream",
     "text": [
      "100\n"
     ]
    }
   ],
   "source": [
    "_a984_=100 #valid\n",
    "print(_a984_)"
   ]
  },
  {
   "cell_type": "code",
   "execution_count": 27,
   "id": "b4cdbc22",
   "metadata": {},
   "outputs": [
    {
     "ename": "SyntaxError",
     "evalue": "invalid syntax (1468309244.py, line 1)",
     "output_type": "error",
     "traceback": [
      "\u001b[1;36m  File \u001b[1;32m\"C:\\Users\\amanc\\AppData\\Local\\Temp\\ipykernel_17464\\1468309244.py\"\u001b[1;36m, line \u001b[1;32m1\u001b[0m\n\u001b[1;33m    a9967$=100 #invalid\u001b[0m\n\u001b[1;37m         ^\u001b[0m\n\u001b[1;31mSyntaxError\u001b[0m\u001b[1;31m:\u001b[0m invalid syntax\n"
     ]
    }
   ],
   "source": [
    "a9967$=100 #invalid\n",
    "print(a9967$)"
   ]
  },
  {
   "cell_type": "code",
   "execution_count": 28,
   "id": "f0d097f8",
   "metadata": {},
   "outputs": [
    {
     "ename": "SyntaxError",
     "evalue": "cannot assign to operator (2603221730.py, line 1)",
     "output_type": "error",
     "traceback": [
      "\u001b[1;36m  File \u001b[1;32m\"C:\\Users\\amanc\\AppData\\Local\\Temp\\ipykernel_17464\\2603221730.py\"\u001b[1;36m, line \u001b[1;32m1\u001b[0m\n\u001b[1;33m    xyz-2=100 #invalid\u001b[0m\n\u001b[1;37m    ^\u001b[0m\n\u001b[1;31mSyntaxError\u001b[0m\u001b[1;31m:\u001b[0m cannot assign to operator\n"
     ]
    }
   ],
   "source": [
    "xyz-2=100 #invalid\n",
    "print(xyz-2)"
   ]
  },
  {
   "cell_type": "markdown",
   "id": "f98e5385",
   "metadata": {},
   "source": [
    "3. Check if element exists in list in Python: \n",
    "\n",
    "list = test_list = [1,6,3,5,3,4]\n",
    "\n",
    "1. Check if 3 exist or not'"
   ]
  },
  {
   "cell_type": "code",
   "execution_count": 29,
   "id": "19b2ad7b",
   "metadata": {},
   "outputs": [
    {
     "data": {
      "text/plain": [
       "True"
      ]
     },
     "execution_count": 29,
     "metadata": {},
     "output_type": "execute_result"
    }
   ],
   "source": [
    "a = 3 #exist\n",
    "list = [1,6,3,5,3,4]\n",
    "a in list"
   ]
  },
  {
   "cell_type": "markdown",
   "id": "ee441b00",
   "metadata": {},
   "source": [
    "2. Check if 9 exists or not."
   ]
  },
  {
   "cell_type": "code",
   "execution_count": 30,
   "id": "dfb2a410",
   "metadata": {},
   "outputs": [
    {
     "data": {
      "text/plain": [
       "False"
      ]
     },
     "execution_count": 30,
     "metadata": {},
     "output_type": "execute_result"
    }
   ],
   "source": [
    "b = 9 #not exist\n",
    "list = [1,6,3,5,3,4]\n",
    "b in list"
   ]
  },
  {
   "cell_type": "markdown",
   "id": "7646a124",
   "metadata": {},
   "source": [
    "4. Take the user input to print the current date."
   ]
  },
  {
   "cell_type": "code",
   "execution_count": 31,
   "id": "3342b41b",
   "metadata": {},
   "outputs": [
    {
     "name": "stdout",
     "output_type": "stream",
     "text": [
      "Enter a year: 1999\n",
      "Enter a month: 10\n",
      "Enter a day: 23\n",
      "You have entered: , 1999-10-23\n",
      "today is:  2023-08-12\n"
     ]
    }
   ],
   "source": [
    "#import date class from datetime module\n",
    "from datetime import date\n",
    "\n",
    "#input by user\n",
    "year = int(input('Enter a year: '))\n",
    "month = int(input('Enter a month: '))\n",
    "day = int(input('Enter a day: '))\n",
    "\n",
    "#date to be entered by user as input\n",
    "current_date_you_entered = date(year, month, day)\n",
    "\n",
    "#today's date\n",
    "today = date.today()\n",
    "\n",
    "print(f\"You have entered: , {current_date_you_entered}\") #entered by user\n",
    "print(\"today is: \", today) #today's date"
   ]
  },
  {
   "cell_type": "markdown",
   "id": "f8d6322e",
   "metadata": {},
   "source": [
    "5. what is the output of the following code:\n",
    "\n",
    "a. print9//2\n",
    "\n",
    "b. print9%2"
   ]
  },
  {
   "cell_type": "code",
   "execution_count": 32,
   "id": "e7ac031b",
   "metadata": {},
   "outputs": [
    {
     "name": "stdout",
     "output_type": "stream",
     "text": [
      "4\n"
     ]
    }
   ],
   "source": [
    "x = 9//2 #Floor Division\n",
    "print(x)"
   ]
  },
  {
   "cell_type": "code",
   "execution_count": 33,
   "id": "bb672aa4",
   "metadata": {},
   "outputs": [
    {
     "name": "stdout",
     "output_type": "stream",
     "text": [
      "1\n"
     ]
    }
   ],
   "source": [
    "y = 9%2  #Modulus\n",
    "print(y)"
   ]
  },
  {
   "cell_type": "markdown",
   "id": "0f14bf43",
   "metadata": {},
   "source": [
    "6. Print First 10 natural numbers using a while loop."
   ]
  },
  {
   "cell_type": "code",
   "execution_count": 34,
   "id": "2ef8c776",
   "metadata": {},
   "outputs": [
    {
     "name": "stdout",
     "output_type": "stream",
     "text": [
      "1\n",
      "2\n",
      "3\n",
      "4\n",
      "5\n",
      "6\n",
      "7\n",
      "8\n",
      "9\n",
      "10\n"
     ]
    }
   ],
   "source": [
    "i = 1\n",
    "while (i<=10):\n",
    "    print(i)\n",
    "    i=i+1"
   ]
  },
  {
   "cell_type": "markdown",
   "id": "f3e1efc6",
   "metadata": {},
   "source": [
    "7. Write a program to accept a number from a user and calculate the sum of all numbers from 1 to a given number.\n",
    "For example, if the user entered 10 the output should be 55 (1+2+3+4+5+6+7+8+9+10)"
   ]
  },
  {
   "cell_type": "code",
   "execution_count": 35,
   "id": "af346b0d",
   "metadata": {},
   "outputs": [
    {
     "name": "stdout",
     "output_type": "stream",
     "text": [
      "Enter the number: 10\n",
      "Sum of all numbers from 1 to input number is: 55\n"
     ]
    }
   ],
   "source": [
    "number = int(input(\"Enter the number: \"))\n",
    "sum = 0\n",
    "for i in range(1, number+1):\n",
    "    sum += i\n",
    "print(f\"Sum of all numbers from 1 to input number is: {sum}\")"
   ]
  },
  {
   "cell_type": "markdown",
   "id": "e3a7112b",
   "metadata": {},
   "source": [
    "8. Write a Python program which iterates the integers from 1 to 50. For multiples of three print \"Fizz\" instead of the number and for the multiples of five print \"Buzz\". For numbers which are multiples of both three and five print \"FizzBuzz\".\n",
    "\n",
    "Example: fizzbuzz  1 2 fizz 4 buzz"
   ]
  },
  {
   "cell_type": "code",
   "execution_count": 36,
   "id": "b3809c68",
   "metadata": {},
   "outputs": [
    {
     "name": "stdout",
     "output_type": "stream",
     "text": [
      "fizzbuzz\n",
      "1\n",
      "2\n",
      "fizz\n",
      "4\n",
      "buzz\n",
      "fizz\n",
      "7\n",
      "8\n",
      "fizz\n",
      "buzz\n",
      "11\n",
      "fizz\n",
      "13\n",
      "14\n",
      "fizzbuzz\n",
      "16\n",
      "17\n",
      "fizz\n",
      "19\n",
      "buzz\n",
      "fizz\n",
      "22\n",
      "23\n",
      "fizz\n",
      "buzz\n",
      "26\n",
      "fizz\n",
      "28\n",
      "29\n",
      "fizzbuzz\n",
      "31\n",
      "32\n",
      "fizz\n",
      "34\n",
      "buzz\n",
      "fizz\n",
      "37\n",
      "38\n",
      "fizz\n",
      "buzz\n",
      "41\n",
      "fizz\n",
      "43\n",
      "44\n",
      "fizzbuzz\n",
      "46\n",
      "47\n",
      "fizz\n",
      "49\n",
      "buzz\n"
     ]
    }
   ],
   "source": [
    "for fizzbuzz in range(51):\n",
    "    if fizzbuzz % 3 == 0 and fizzbuzz % 5 == 0:\n",
    "        print(\"fizzbuzz\")\n",
    "        continue\n",
    "    elif fizzbuzz % 3 == 0:\n",
    "        print(\"fizz\")\n",
    "        continue\n",
    "    elif fizzbuzz % 5 == 0:\n",
    "        print(\"buzz\")\n",
    "        continue\n",
    "    print(fizzbuzz)"
   ]
  },
  {
   "cell_type": "code",
   "execution_count": null,
   "id": "6bf6dbd3",
   "metadata": {},
   "outputs": [],
   "source": []
  },
  {
   "cell_type": "code",
   "execution_count": null,
   "id": "659a4bcf",
   "metadata": {},
   "outputs": [],
   "source": []
  }
 ],
 "metadata": {
  "kernelspec": {
   "display_name": "Python 3 (ipykernel)",
   "language": "python",
   "name": "python3"
  },
  "language_info": {
   "codemirror_mode": {
    "name": "ipython",
    "version": 3
   },
   "file_extension": ".py",
   "mimetype": "text/x-python",
   "name": "python",
   "nbconvert_exporter": "python",
   "pygments_lexer": "ipython3",
   "version": "3.9.13"
  }
 },
 "nbformat": 4,
 "nbformat_minor": 5
}
