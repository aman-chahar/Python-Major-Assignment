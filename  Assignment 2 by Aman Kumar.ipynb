{
 "cells": [
  {
   "cell_type": "markdown",
   "id": "3a15f625",
   "metadata": {},
   "source": [
    "# LIST"
   ]
  },
  {
   "cell_type": "markdown",
   "id": "3bb942c2",
   "metadata": {},
   "source": [
    "1. How to declare a list?"
   ]
  },
  {
   "cell_type": "code",
   "execution_count": 56,
   "id": "510e74bf",
   "metadata": {},
   "outputs": [
    {
     "name": "stdout",
     "output_type": "stream",
     "text": [
      "declare a list of int [1, 2, 3, 4, 5, 6, 7]\n"
     ]
    }
   ],
   "source": [
    "list = [1,2,3,4,5,6,7]\n",
    "print(\"declare a list of int\", list)"
   ]
  },
  {
   "cell_type": "markdown",
   "id": "80aa758a",
   "metadata": {},
   "source": [
    "2. Declare a list containing different fruit names?"
   ]
  },
  {
   "cell_type": "code",
   "execution_count": 2,
   "id": "0521f594",
   "metadata": {},
   "outputs": [
    {
     "name": "stdout",
     "output_type": "stream",
     "text": [
      "['Apple', 'Banana', 'Orange', 'Mango', 'Grapes']\n"
     ]
    },
    {
     "data": {
      "text/plain": [
       "list"
      ]
     },
     "execution_count": 2,
     "metadata": {},
     "output_type": "execute_result"
    }
   ],
   "source": [
    "fruits = [\"Apple\", \"Banana\",\"Orange\",\"Mango\",\"Grapes\"]\n",
    "print(fruits)\n",
    "type(fruits)"
   ]
  },
  {
   "cell_type": "markdown",
   "id": "0978a31a",
   "metadata": {},
   "source": [
    "3. Declare a list containing different data-types in it?"
   ]
  },
  {
   "cell_type": "code",
   "execution_count": 3,
   "id": "be844bf1",
   "metadata": {},
   "outputs": [
    {
     "name": "stdout",
     "output_type": "stream",
     "text": [
      "['Aman', 27, 65000.0]\n"
     ]
    }
   ],
   "source": [
    "list = [\"Aman\",27, 65000.0]\n",
    "print(list)"
   ]
  },
  {
   "cell_type": "markdown",
   "id": "8a5ebe68",
   "metadata": {},
   "source": [
    "4. write down the code to check a particular element in the list?"
   ]
  },
  {
   "cell_type": "code",
   "execution_count": 9,
   "id": "6b9b470e",
   "metadata": {},
   "outputs": [
    {
     "name": "stdout",
     "output_type": "stream",
     "text": [
      "Banana\n",
      "exist\n"
     ]
    }
   ],
   "source": [
    "fruits = [\"Apple\", \"Banana\",\"Orange\",\"Mango\",\"Grapes\"]\n",
    "\n",
    "i = input()\n",
    "\n",
    "if i in fruits:\n",
    "    print(\"exist\")\n",
    "else:\n",
    "    print(\"not exist\")"
   ]
  },
  {
   "cell_type": "markdown",
   "id": "16a85ddd",
   "metadata": {},
   "source": [
    "5. create a list of 5 elements and print the middle element which is in the list?"
   ]
  },
  {
   "cell_type": "code",
   "execution_count": 15,
   "id": "48e4dcfa",
   "metadata": {},
   "outputs": [
    {
     "name": "stdout",
     "output_type": "stream",
     "text": [
      "Orange\n"
     ]
    }
   ],
   "source": [
    "fruits = [\"Apple\", \"Banana\",\"Orange\",\"Mango\",\"Grapes\"]\n",
    "print(fruits[2])"
   ]
  },
  {
   "cell_type": "markdown",
   "id": "d0151e0f",
   "metadata": {},
   "source": [
    "6. A list containing 10 elements slice it from index 3 to 4?"
   ]
  },
  {
   "cell_type": "code",
   "execution_count": 3,
   "id": "e05bd147",
   "metadata": {},
   "outputs": [
    {
     "name": "stdout",
     "output_type": "stream",
     "text": [
      "[54, 66]\n"
     ]
    }
   ],
   "source": [
    "list = [1,23,43,54,66,78,73,28,17,81]\n",
    "sliced_list = list[3:5]\n",
    "print(sliced_list)"
   ]
  },
  {
   "cell_type": "markdown",
   "id": "591cc3d2",
   "metadata": {},
   "source": [
    "7. Declare a list and add a new element into the list using the append\n",
    "function?"
   ]
  },
  {
   "cell_type": "code",
   "execution_count": 4,
   "id": "6b17a6f8",
   "metadata": {},
   "outputs": [
    {
     "name": "stdout",
     "output_type": "stream",
     "text": [
      "Before adding element at the end of the list- ['Apple', 'Banana', 'Mango', 'Cherry']\n",
      "After adding element at the end of the list- ['Apple', 'Banana', 'Mango', 'Cherry', 'Melon']\n"
     ]
    }
   ],
   "source": [
    "fruit = [\"Apple\", \"Banana\", \"Mango\", \"Cherry\"]\n",
    "print(f\"Before adding element at the end of the list- {fruit}\")\n",
    "fruit.append(\"Melon\")\n",
    "print(f\"After adding element at the end of the list- {fruit}\")"
   ]
  },
  {
   "cell_type": "markdown",
   "id": "91e609a3",
   "metadata": {},
   "source": [
    "8. Declare a list store multiple elements and access the elements using\n",
    "negative indexing?"
   ]
  },
  {
   "cell_type": "code",
   "execution_count": 10,
   "id": "79b2bde7",
   "metadata": {},
   "outputs": [
    {
     "name": "stdout",
     "output_type": "stream",
     "text": [
      "Melon\n",
      "Cherry\n",
      "Mango\n",
      "Banana\n",
      "Apple\n"
     ]
    }
   ],
   "source": [
    "list =  ['Apple', 'Banana', 'Mango', 'Cherry', 'Melon']\n",
    "print(list[-1])\n",
    "print(list[-2])\n",
    "print(list[-3])\n",
    "print(list[-4])\n",
    "print(list[-5])"
   ]
  },
  {
   "cell_type": "markdown",
   "id": "c5f95630",
   "metadata": {},
   "source": [
    "# Tuple"
   ]
  },
  {
   "cell_type": "markdown",
   "id": "dad54e7c",
   "metadata": {},
   "source": [
    "1. How tuples are different from the list [theory type question]?"
   ]
  },
  {
   "cell_type": "markdown",
   "id": "7285731f",
   "metadata": {},
   "source": [
    "1. List are mutable, Tuple are immutable.\n",
    "2. List consume more memory, while Tuple comsume less memory.\n",
    "3. operation like insertion and deletion are better performed with List, in Tuple elements can be accessed better.\n",
    "\n",
    "example of list = fruit = [\"Apple\", \"Banana\", \"Mango\", \"Cherry\"]\n",
    "\n",
    "\n",
    "example of tuple = fruit = (\"Apple\", \"Banana\", \"Mango\", \"Cherry\")"
   ]
  },
  {
   "cell_type": "markdown",
   "id": "db47335d",
   "metadata": {},
   "source": [
    "2. Write a Python program to create a tuple?"
   ]
  },
  {
   "cell_type": "code",
   "execution_count": 34,
   "id": "d9d5799e",
   "metadata": {},
   "outputs": [
    {
     "name": "stdout",
     "output_type": "stream",
     "text": [
      "tuple with same data types is (1, 3, 4, 8, 21, 77, 42, 72, 89, 33, 47)\n"
     ]
    },
    {
     "data": {
      "text/plain": [
       "tuple"
      ]
     },
     "execution_count": 34,
     "metadata": {},
     "output_type": "execute_result"
    }
   ],
   "source": [
    "tup = (1,3,4,8,21,77,42,72,89,33,47)\n",
    "print(\"tuple with same data types is\", tup)\n",
    "type(tup)"
   ]
  },
  {
   "cell_type": "markdown",
   "id": "2de3cd82",
   "metadata": {},
   "source": [
    "3. Write a Python program to create a tuple with different data types?"
   ]
  },
  {
   "cell_type": "code",
   "execution_count": 32,
   "id": "e14cb9ac",
   "metadata": {},
   "outputs": [
    {
     "name": "stdout",
     "output_type": "stream",
     "text": [
      "tuple with different data types is (1, 3, 'hello world', 2.26)\n"
     ]
    }
   ],
   "source": [
    "tuple = (1,3,\"hello world\", 2.26)\n",
    "print(\"tuple with different data types is\",tuple)"
   ]
  },
  {
   "cell_type": "markdown",
   "id": "21abf829",
   "metadata": {},
   "source": [
    "4. Write a Python program to create a tuple with numbers and print one item?"
   ]
  },
  {
   "cell_type": "code",
   "execution_count": 30,
   "id": "5c391806",
   "metadata": {},
   "outputs": [
    {
     "name": "stdout",
     "output_type": "stream",
     "text": [
      "fourth element is 8\n"
     ]
    }
   ],
   "source": [
    "tuple = (1,3,4,8,21,77,42,72,89,33,47)\n",
    "print(\"fourth element is\",tuple[3])"
   ]
  },
  {
   "cell_type": "markdown",
   "id": "a9e6cae4",
   "metadata": {},
   "source": [
    "5. Write a Python program to add an item in a tuple?"
   ]
  },
  {
   "cell_type": "code",
   "execution_count": 24,
   "id": "d75a8b5f",
   "metadata": {},
   "outputs": [
    {
     "name": "stdout",
     "output_type": "stream",
     "text": [
      "final tuple after adding two tuple- (1, 3, 4, 8, 21, 77, 42, 72, 89, 33, 47, 5, 88, 103, 55)\n"
     ]
    }
   ],
   "source": [
    "tuple1 = (1,3,4,8,21,77,42,72,89,33,47)\n",
    "tuple2 = (5,88,103,55)\n",
    "final_tuple = tuple1 + tuple2\n",
    "print(f\"final tuple after adding two tuple- {final_tuple}\")"
   ]
  },
  {
   "cell_type": "markdown",
   "id": "8cd95530",
   "metadata": {},
   "source": [
    "6. Write a Python program to get the 4th element and 4th element from the last\n",
    "of a tuple?"
   ]
  },
  {
   "cell_type": "code",
   "execution_count": 28,
   "id": "12c9e0fb",
   "metadata": {},
   "outputs": [
    {
     "name": "stdout",
     "output_type": "stream",
     "text": [
      "fourth element is 8\n",
      "fourth element from last is 5\n"
     ]
    }
   ],
   "source": [
    "tuple = (1, 3, 4, 8, 21, 77, 42, 72, 89, 33, 47, 5, 88, 103, 55)\n",
    "print(\"fourth element is\", tuple[3])\n",
    "print(\"fourth element from last is\", tuple[-4])"
   ]
  },
  {
   "cell_type": "markdown",
   "id": "a5cdb297",
   "metadata": {},
   "source": [
    "7. Write a Python program to check whether an element exists within a tuple?"
   ]
  },
  {
   "cell_type": "code",
   "execution_count": 36,
   "id": "000a82b6",
   "metadata": {},
   "outputs": [
    {
     "name": "stdout",
     "output_type": "stream",
     "text": [
      "The element 72 exists in the tuple.\n"
     ]
    }
   ],
   "source": [
    "tuple = (1, 3, 4, 8, 21, 77, 42, 72, 89, 33, 47, 5, 88, 103, 55)\n",
    "\n",
    "element_to_check = 72\n",
    "\n",
    "if element_to_check in tuple:\n",
    "    print(f\"The element {element_to_check} exists in the tuple.\")\n",
    "else:\n",
    "    print(f\"The element {element_to_check} does not exist in the tuple.\")"
   ]
  },
  {
   "cell_type": "markdown",
   "id": "e066d5c6",
   "metadata": {},
   "source": [
    "8. Write a Python program to remove an item from a tuple?"
   ]
  },
  {
   "cell_type": "code",
   "execution_count": 40,
   "id": "74bad728",
   "metadata": {},
   "outputs": [
    {
     "name": "stdout",
     "output_type": "stream",
     "text": [
      "Tuple before removing an item (1, 3, 4, 8, 21, 77, 42, 72, 89, 33, 47, 5, 88, 103, 55)\n",
      "Tuple after removing 3rd item (1, 3, 8, 21, 77, 42, 72, 89, 33, 47, 5, 88, 103, 55)\n"
     ]
    }
   ],
   "source": [
    "tuple = (1, 3, 4, 8, 21, 77, 42, 72, 89, 33, 47, 5, 88, 103, 55)\n",
    "print(\"Tuple before removing an item\", tuple)\n",
    "\n",
    "tuple = tuple[:2] + tuple[3:]\n",
    "print(\"Tuple after removing 3rd item\", tuple)"
   ]
  },
  {
   "cell_type": "markdown",
   "id": "b458669d",
   "metadata": {},
   "source": [
    "9. Write a Python program to slice a tuple?"
   ]
  },
  {
   "cell_type": "code",
   "execution_count": 44,
   "id": "21e368e3",
   "metadata": {},
   "outputs": [
    {
     "name": "stdout",
     "output_type": "stream",
     "text": [
      "Tuple before slicing: (1, 3, 4, 8, 21, 77, 42, 72, 89, 33, 47, 5, 88, 103, 55)\n",
      "Sliced Tuple from index 2 to 7: (4, 8, 21, 77, 42)\n",
      "Sliced Tuple from index 1 to the end: (3, 4, 8, 21, 77, 42, 72, 89, 33, 47, 5, 88, 103, 55)\n",
      "Sliced Tuple from the beginning to index 7: (1, 3, 4, 8, 21, 77, 42)\n",
      "Sliced Tuple with a step size of 3: (1, 8, 42, 33, 88)\n"
     ]
    }
   ],
   "source": [
    "tuple = (1, 3, 4, 8, 21, 77, 42, 72, 89, 33, 47, 5, 88, 103, 55)\n",
    "print(\"Tuple before slicing:\", tuple)\n",
    "\n",
    "# Slice from index 2 to 7\n",
    "sliced_tuple = tuple[2:7]\n",
    "\n",
    "# Slice from index 1 to the end\n",
    "sliced_tuple2 = tuple[1:]\n",
    "\n",
    "# Slice from the beginning to index 7\n",
    "sliced_tuple3 = tuple[:7]\n",
    "\n",
    "# Slice with a step size of 3\n",
    "sliced_tuple4 = tuple[::3]\n",
    "\n",
    "# Print the sliced tuples\n",
    "print(\"Sliced Tuple from index 2 to 7:\", sliced_tuple)    \n",
    "print(\"Sliced Tuple from index 1 to the end:\", sliced_tuple2) \n",
    "print(\"Sliced Tuple from the beginning to index 7:\", sliced_tuple3)\n",
    "print(\"Sliced Tuple with a step size of 3:\", sliced_tuple4)"
   ]
  },
  {
   "cell_type": "markdown",
   "id": "903261d6",
   "metadata": {},
   "source": [
    "10. Write a Python program to find the length of a tuple?"
   ]
  },
  {
   "cell_type": "code",
   "execution_count": 48,
   "id": "bd9b9736",
   "metadata": {},
   "outputs": [
    {
     "name": "stdout",
     "output_type": "stream",
     "text": [
      "length of the tuple: 15\n"
     ]
    }
   ],
   "source": [
    "tuple = (1, 3, 4, 8, 21, 77, 42, 72, 89, 33, 47, 5, 88, 103, 55)\n",
    "print(\"length of the tuple:\", len(tuple))"
   ]
  },
  {
   "cell_type": "markdown",
   "id": "e5f9d832",
   "metadata": {},
   "source": [
    "11. Write a Python program to print a tuple with string formatting\n",
    "Sample tuple : (100, 200, 300)?"
   ]
  },
  {
   "cell_type": "code",
   "execution_count": 51,
   "id": "71e88370",
   "metadata": {},
   "outputs": [
    {
     "name": "stdout",
     "output_type": "stream",
     "text": [
      "Sample tuple: (100, 200, 300)\n"
     ]
    }
   ],
   "source": [
    "sample_tuple = (100, 200, 300)\n",
    "\n",
    "# Using str.formatting to print the tuple\n",
    "print(\"Sample tuple: {}\".format(sample_tuple))"
   ]
  },
  {
   "cell_type": "code",
   "execution_count": null,
   "id": "26be1daf",
   "metadata": {},
   "outputs": [],
   "source": []
  }
 ],
 "metadata": {
  "kernelspec": {
   "display_name": "Python 3 (ipykernel)",
   "language": "python",
   "name": "python3"
  },
  "language_info": {
   "codemirror_mode": {
    "name": "ipython",
    "version": 3
   },
   "file_extension": ".py",
   "mimetype": "text/x-python",
   "name": "python",
   "nbconvert_exporter": "python",
   "pygments_lexer": "ipython3",
   "version": "3.9.13"
  }
 },
 "nbformat": 4,
 "nbformat_minor": 5
}
